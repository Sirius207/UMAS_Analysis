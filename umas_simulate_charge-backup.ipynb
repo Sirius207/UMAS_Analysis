{
 "cells": [
  {
   "cell_type": "code",
   "execution_count": 9,
   "metadata": {},
   "outputs": [],
   "source": [
    "import pandas as pd\n",
    "import plotly.graph_objects as go\n",
    "\n",
    "from datetime import datetime"
   ]
  },
  {
   "cell_type": "code",
   "execution_count": 40,
   "metadata": {},
   "outputs": [],
   "source": [
    "\n",
    "from plotly.subplots import make_subplots\n",
    "\n",
    "\n",
    "def draw_chart(h):\n",
    "    use_col_name = 'Usage [kW]'\n",
    "    gen_col_name = 'Generation [kW]'\n",
    "\n",
    "    fig = make_subplots(specs=[[{\"secondary_y\": True}]])\n",
    "\n",
    "    fig.add_trace(go.Bar(x=h['time'], y=h[gen_col_name],\n",
    "#                         fill='tozeroy',\n",
    "#                         mode='none', # override default markers+lines,\n",
    "                        marker_color='rgba(252, 220, 126, 1)',\n",
    "                        name='Renewable Power (kW)'\n",
    "                        ))\n",
    "    fig.add_trace(go.Bar(x=h['time'], y=h['grid'], \n",
    "#                         fill='tozeroy',\n",
    "#                         mode='none', # override default markers+lines,\n",
    "                        marker_color='rgba(125, 142, 141, 0.3)',\n",
    "                        name='Usage (kW)'\n",
    "                        ))\n",
    "    \n",
    "    fig.add_trace(go.Bar(x=h['time'], y=h['pv_use'], \n",
    "#                         fill='tozeroy',\n",
    "#                         mode='none', # override default markers+lines,\n",
    "                        marker_color='rgb(65, 135, 134)',\n",
    "                        name='PV Usage (kW)'\n",
    "                        ))\n",
    "\n",
    "    fig.add_trace(go.Bar(x=h['time'], y=h['battery_charge'], \n",
    "#                         fill='tozeroy',\n",
    "#                         mode='none', # override default markers+lines,\n",
    "                        marker_color='rgb(206, 205, 205)',\n",
    "                        name='Battery Charge (kW)'\n",
    "                        ))\n",
    "    # fig.add_trace(go.Scatter(x=list(range(96)), y=-h['grid'], fill='tozeroy',\n",
    "    #                     mode='none', # override default markers+lines\n",
    "    #                     name='grid'\n",
    "    #                     ))\n",
    "\n",
    "    fig.add_trace(go.Scatter(x=h['time'], y=h['battery'],\n",
    "    #                     fill='tozeroy',\n",
    "    #                     mode='none',\n",
    "                        name='Battery Storage(kWh)',\n",
    "                        ),secondary_y=True)\n",
    "\n",
    "    # Set x-axis title\n",
    "    fig.update_xaxes(title_text=\"time\")\n",
    "\n",
    "    # Set y-axes titles\n",
    "    fig.update_yaxes(title_text=\"<b>kw</b> for usage, renewable power\", secondary_y=False)\n",
    "    fig.update_yaxes(title_text=\"<b>kwh</b> Battery Storage\", secondary_y=True)\n",
    "    fig.update_layout(\n",
    "        legend=dict(x=-.1, y=1.5),\n",
    "        plot_bgcolor='rgba(0,0,0,0)',\n",
    "        barmode='overlay'\n",
    "    )\n",
    "    \n",
    "    fig.show()"
   ]
  },
  {
   "cell_type": "code",
   "execution_count": 16,
   "metadata": {},
   "outputs": [
    {
     "data": {
      "text/html": [
       "<div>\n",
       "<style scoped>\n",
       "    .dataframe tbody tr th:only-of-type {\n",
       "        vertical-align: middle;\n",
       "    }\n",
       "\n",
       "    .dataframe tbody tr th {\n",
       "        vertical-align: top;\n",
       "    }\n",
       "\n",
       "    .dataframe thead th {\n",
       "        text-align: right;\n",
       "    }\n",
       "</style>\n",
       "<table border=\"1\" class=\"dataframe\">\n",
       "  <thead>\n",
       "    <tr style=\"text-align: right;\">\n",
       "      <th></th>\n",
       "      <th>Date &amp; Time</th>\n",
       "      <th>weekday</th>\n",
       "      <th>mon</th>\n",
       "      <th>day</th>\n",
       "      <th>hr</th>\n",
       "      <th>min</th>\n",
       "      <th>Generation [kW]</th>\n",
       "      <th>Usage [kW]</th>\n",
       "    </tr>\n",
       "  </thead>\n",
       "  <tbody>\n",
       "    <tr>\n",
       "      <th>0</th>\n",
       "      <td>2014-01-01 13:00:00</td>\n",
       "      <td>2</td>\n",
       "      <td>1</td>\n",
       "      <td>1</td>\n",
       "      <td>13</td>\n",
       "      <td>0</td>\n",
       "      <td>6.227253</td>\n",
       "      <td>13.950902</td>\n",
       "    </tr>\n",
       "    <tr>\n",
       "      <th>1</th>\n",
       "      <td>2014-01-01 14:00:00</td>\n",
       "      <td>2</td>\n",
       "      <td>1</td>\n",
       "      <td>1</td>\n",
       "      <td>14</td>\n",
       "      <td>0</td>\n",
       "      <td>1.994671</td>\n",
       "      <td>2.893341</td>\n",
       "    </tr>\n",
       "    <tr>\n",
       "      <th>2</th>\n",
       "      <td>2014-01-01 15:00:00</td>\n",
       "      <td>2</td>\n",
       "      <td>1</td>\n",
       "      <td>1</td>\n",
       "      <td>15</td>\n",
       "      <td>0</td>\n",
       "      <td>0.715940</td>\n",
       "      <td>1.218461</td>\n",
       "    </tr>\n",
       "    <tr>\n",
       "      <th>3</th>\n",
       "      <td>2014-01-01 16:00:00</td>\n",
       "      <td>2</td>\n",
       "      <td>1</td>\n",
       "      <td>1</td>\n",
       "      <td>16</td>\n",
       "      <td>0</td>\n",
       "      <td>0.117711</td>\n",
       "      <td>0.603400</td>\n",
       "    </tr>\n",
       "    <tr>\n",
       "      <th>4</th>\n",
       "      <td>2014-01-01 17:00:00</td>\n",
       "      <td>2</td>\n",
       "      <td>1</td>\n",
       "      <td>1</td>\n",
       "      <td>17</td>\n",
       "      <td>0</td>\n",
       "      <td>0.010658</td>\n",
       "      <td>0.826786</td>\n",
       "    </tr>\n",
       "    <tr>\n",
       "      <th>5</th>\n",
       "      <td>2014-01-01 18:00:00</td>\n",
       "      <td>2</td>\n",
       "      <td>1</td>\n",
       "      <td>1</td>\n",
       "      <td>18</td>\n",
       "      <td>0</td>\n",
       "      <td>0.010753</td>\n",
       "      <td>0.806263</td>\n",
       "    </tr>\n",
       "    <tr>\n",
       "      <th>6</th>\n",
       "      <td>2014-01-01 19:00:00</td>\n",
       "      <td>2</td>\n",
       "      <td>1</td>\n",
       "      <td>1</td>\n",
       "      <td>19</td>\n",
       "      <td>0</td>\n",
       "      <td>0.008840</td>\n",
       "      <td>1.306462</td>\n",
       "    </tr>\n",
       "    <tr>\n",
       "      <th>7</th>\n",
       "      <td>2014-01-01 20:00:00</td>\n",
       "      <td>2</td>\n",
       "      <td>1</td>\n",
       "      <td>1</td>\n",
       "      <td>20</td>\n",
       "      <td>0</td>\n",
       "      <td>0.009791</td>\n",
       "      <td>1.510999</td>\n",
       "    </tr>\n",
       "    <tr>\n",
       "      <th>8</th>\n",
       "      <td>2014-01-01 21:00:00</td>\n",
       "      <td>2</td>\n",
       "      <td>1</td>\n",
       "      <td>1</td>\n",
       "      <td>21</td>\n",
       "      <td>0</td>\n",
       "      <td>0.009656</td>\n",
       "      <td>1.225812</td>\n",
       "    </tr>\n",
       "    <tr>\n",
       "      <th>9</th>\n",
       "      <td>2014-01-01 22:00:00</td>\n",
       "      <td>2</td>\n",
       "      <td>1</td>\n",
       "      <td>1</td>\n",
       "      <td>22</td>\n",
       "      <td>0</td>\n",
       "      <td>0.010447</td>\n",
       "      <td>0.668869</td>\n",
       "    </tr>\n",
       "    <tr>\n",
       "      <th>10</th>\n",
       "      <td>2014-01-01 23:00:00</td>\n",
       "      <td>2</td>\n",
       "      <td>1</td>\n",
       "      <td>1</td>\n",
       "      <td>23</td>\n",
       "      <td>0</td>\n",
       "      <td>0.009638</td>\n",
       "      <td>0.342348</td>\n",
       "    </tr>\n",
       "    <tr>\n",
       "      <th>11</th>\n",
       "      <td>2014-01-02 00:00:00</td>\n",
       "      <td>3</td>\n",
       "      <td>1</td>\n",
       "      <td>2</td>\n",
       "      <td>0</td>\n",
       "      <td>0</td>\n",
       "      <td>0.010211</td>\n",
       "      <td>0.387433</td>\n",
       "    </tr>\n",
       "    <tr>\n",
       "      <th>12</th>\n",
       "      <td>2014-01-02 01:00:00</td>\n",
       "      <td>3</td>\n",
       "      <td>1</td>\n",
       "      <td>2</td>\n",
       "      <td>1</td>\n",
       "      <td>0</td>\n",
       "      <td>0.010116</td>\n",
       "      <td>0.311993</td>\n",
       "    </tr>\n",
       "    <tr>\n",
       "      <th>13</th>\n",
       "      <td>2014-01-02 02:00:00</td>\n",
       "      <td>3</td>\n",
       "      <td>1</td>\n",
       "      <td>2</td>\n",
       "      <td>2</td>\n",
       "      <td>0</td>\n",
       "      <td>0.010220</td>\n",
       "      <td>0.349990</td>\n",
       "    </tr>\n",
       "    <tr>\n",
       "      <th>14</th>\n",
       "      <td>2014-01-02 03:00:00</td>\n",
       "      <td>3</td>\n",
       "      <td>1</td>\n",
       "      <td>2</td>\n",
       "      <td>3</td>\n",
       "      <td>0</td>\n",
       "      <td>0.010062</td>\n",
       "      <td>0.329654</td>\n",
       "    </tr>\n",
       "    <tr>\n",
       "      <th>15</th>\n",
       "      <td>2014-01-02 04:00:00</td>\n",
       "      <td>3</td>\n",
       "      <td>1</td>\n",
       "      <td>2</td>\n",
       "      <td>4</td>\n",
       "      <td>0</td>\n",
       "      <td>0.009880</td>\n",
       "      <td>0.300649</td>\n",
       "    </tr>\n",
       "    <tr>\n",
       "      <th>16</th>\n",
       "      <td>2014-01-02 05:00:00</td>\n",
       "      <td>3</td>\n",
       "      <td>1</td>\n",
       "      <td>2</td>\n",
       "      <td>5</td>\n",
       "      <td>0</td>\n",
       "      <td>0.010116</td>\n",
       "      <td>1.459487</td>\n",
       "    </tr>\n",
       "    <tr>\n",
       "      <th>17</th>\n",
       "      <td>2014-01-02 06:00:00</td>\n",
       "      <td>3</td>\n",
       "      <td>1</td>\n",
       "      <td>2</td>\n",
       "      <td>6</td>\n",
       "      <td>0</td>\n",
       "      <td>0.010929</td>\n",
       "      <td>1.031606</td>\n",
       "    </tr>\n",
       "    <tr>\n",
       "      <th>18</th>\n",
       "      <td>2014-01-02 07:00:00</td>\n",
       "      <td>3</td>\n",
       "      <td>1</td>\n",
       "      <td>2</td>\n",
       "      <td>7</td>\n",
       "      <td>0</td>\n",
       "      <td>0.010593</td>\n",
       "      <td>0.619427</td>\n",
       "    </tr>\n",
       "    <tr>\n",
       "      <th>19</th>\n",
       "      <td>2014-01-02 08:00:00</td>\n",
       "      <td>3</td>\n",
       "      <td>1</td>\n",
       "      <td>2</td>\n",
       "      <td>8</td>\n",
       "      <td>0</td>\n",
       "      <td>0.010833</td>\n",
       "      <td>0.671141</td>\n",
       "    </tr>\n",
       "    <tr>\n",
       "      <th>20</th>\n",
       "      <td>2014-01-02 09:00:00</td>\n",
       "      <td>3</td>\n",
       "      <td>1</td>\n",
       "      <td>2</td>\n",
       "      <td>9</td>\n",
       "      <td>0</td>\n",
       "      <td>0.011071</td>\n",
       "      <td>0.422978</td>\n",
       "    </tr>\n",
       "    <tr>\n",
       "      <th>21</th>\n",
       "      <td>2014-01-02 10:00:00</td>\n",
       "      <td>3</td>\n",
       "      <td>1</td>\n",
       "      <td>2</td>\n",
       "      <td>10</td>\n",
       "      <td>0</td>\n",
       "      <td>0.010847</td>\n",
       "      <td>0.333039</td>\n",
       "    </tr>\n",
       "    <tr>\n",
       "      <th>22</th>\n",
       "      <td>2014-01-02 11:00:00</td>\n",
       "      <td>3</td>\n",
       "      <td>1</td>\n",
       "      <td>2</td>\n",
       "      <td>11</td>\n",
       "      <td>0</td>\n",
       "      <td>0.011284</td>\n",
       "      <td>0.352603</td>\n",
       "    </tr>\n",
       "    <tr>\n",
       "      <th>23</th>\n",
       "      <td>2014-01-02 12:00:00</td>\n",
       "      <td>3</td>\n",
       "      <td>1</td>\n",
       "      <td>2</td>\n",
       "      <td>12</td>\n",
       "      <td>0</td>\n",
       "      <td>0.011324</td>\n",
       "      <td>0.415031</td>\n",
       "    </tr>\n",
       "    <tr>\n",
       "      <th>24</th>\n",
       "      <td>2014-01-02 13:00:00</td>\n",
       "      <td>3</td>\n",
       "      <td>1</td>\n",
       "      <td>2</td>\n",
       "      <td>13</td>\n",
       "      <td>0</td>\n",
       "      <td>0.011091</td>\n",
       "      <td>0.280778</td>\n",
       "    </tr>\n",
       "    <tr>\n",
       "      <th>25</th>\n",
       "      <td>2014-01-02 14:00:00</td>\n",
       "      <td>3</td>\n",
       "      <td>1</td>\n",
       "      <td>2</td>\n",
       "      <td>14</td>\n",
       "      <td>0</td>\n",
       "      <td>0.011604</td>\n",
       "      <td>0.439651</td>\n",
       "    </tr>\n",
       "    <tr>\n",
       "      <th>26</th>\n",
       "      <td>2014-01-02 15:00:00</td>\n",
       "      <td>3</td>\n",
       "      <td>1</td>\n",
       "      <td>2</td>\n",
       "      <td>15</td>\n",
       "      <td>0</td>\n",
       "      <td>0.011609</td>\n",
       "      <td>0.483207</td>\n",
       "    </tr>\n",
       "    <tr>\n",
       "      <th>27</th>\n",
       "      <td>2014-01-02 16:00:00</td>\n",
       "      <td>3</td>\n",
       "      <td>1</td>\n",
       "      <td>2</td>\n",
       "      <td>16</td>\n",
       "      <td>0</td>\n",
       "      <td>0.007120</td>\n",
       "      <td>4.532142</td>\n",
       "    </tr>\n",
       "    <tr>\n",
       "      <th>28</th>\n",
       "      <td>2014-01-02 17:00:00</td>\n",
       "      <td>3</td>\n",
       "      <td>1</td>\n",
       "      <td>2</td>\n",
       "      <td>17</td>\n",
       "      <td>0</td>\n",
       "      <td>0.007391</td>\n",
       "      <td>4.663699</td>\n",
       "    </tr>\n",
       "    <tr>\n",
       "      <th>29</th>\n",
       "      <td>2014-01-02 18:00:00</td>\n",
       "      <td>3</td>\n",
       "      <td>1</td>\n",
       "      <td>2</td>\n",
       "      <td>18</td>\n",
       "      <td>0</td>\n",
       "      <td>0.006544</td>\n",
       "      <td>5.194164</td>\n",
       "    </tr>\n",
       "  </tbody>\n",
       "</table>\n",
       "</div>"
      ],
      "text/plain": [
       "            Date & Time  weekday  mon  day  hr  min  Generation [kW]  \\\n",
       "0   2014-01-01 13:00:00        2    1    1  13    0         6.227253   \n",
       "1   2014-01-01 14:00:00        2    1    1  14    0         1.994671   \n",
       "2   2014-01-01 15:00:00        2    1    1  15    0         0.715940   \n",
       "3   2014-01-01 16:00:00        2    1    1  16    0         0.117711   \n",
       "4   2014-01-01 17:00:00        2    1    1  17    0         0.010658   \n",
       "5   2014-01-01 18:00:00        2    1    1  18    0         0.010753   \n",
       "6   2014-01-01 19:00:00        2    1    1  19    0         0.008840   \n",
       "7   2014-01-01 20:00:00        2    1    1  20    0         0.009791   \n",
       "8   2014-01-01 21:00:00        2    1    1  21    0         0.009656   \n",
       "9   2014-01-01 22:00:00        2    1    1  22    0         0.010447   \n",
       "10  2014-01-01 23:00:00        2    1    1  23    0         0.009638   \n",
       "11  2014-01-02 00:00:00        3    1    2   0    0         0.010211   \n",
       "12  2014-01-02 01:00:00        3    1    2   1    0         0.010116   \n",
       "13  2014-01-02 02:00:00        3    1    2   2    0         0.010220   \n",
       "14  2014-01-02 03:00:00        3    1    2   3    0         0.010062   \n",
       "15  2014-01-02 04:00:00        3    1    2   4    0         0.009880   \n",
       "16  2014-01-02 05:00:00        3    1    2   5    0         0.010116   \n",
       "17  2014-01-02 06:00:00        3    1    2   6    0         0.010929   \n",
       "18  2014-01-02 07:00:00        3    1    2   7    0         0.010593   \n",
       "19  2014-01-02 08:00:00        3    1    2   8    0         0.010833   \n",
       "20  2014-01-02 09:00:00        3    1    2   9    0         0.011071   \n",
       "21  2014-01-02 10:00:00        3    1    2  10    0         0.010847   \n",
       "22  2014-01-02 11:00:00        3    1    2  11    0         0.011284   \n",
       "23  2014-01-02 12:00:00        3    1    2  12    0         0.011324   \n",
       "24  2014-01-02 13:00:00        3    1    2  13    0         0.011091   \n",
       "25  2014-01-02 14:00:00        3    1    2  14    0         0.011604   \n",
       "26  2014-01-02 15:00:00        3    1    2  15    0         0.011609   \n",
       "27  2014-01-02 16:00:00        3    1    2  16    0         0.007120   \n",
       "28  2014-01-02 17:00:00        3    1    2  17    0         0.007391   \n",
       "29  2014-01-02 18:00:00        3    1    2  18    0         0.006544   \n",
       "\n",
       "    Usage [kW]  \n",
       "0    13.950902  \n",
       "1     2.893341  \n",
       "2     1.218461  \n",
       "3     0.603400  \n",
       "4     0.826786  \n",
       "5     0.806263  \n",
       "6     1.306462  \n",
       "7     1.510999  \n",
       "8     1.225812  \n",
       "9     0.668869  \n",
       "10    0.342348  \n",
       "11    0.387433  \n",
       "12    0.311993  \n",
       "13    0.349990  \n",
       "14    0.329654  \n",
       "15    0.300649  \n",
       "16    1.459487  \n",
       "17    1.031606  \n",
       "18    0.619427  \n",
       "19    0.671141  \n",
       "20    0.422978  \n",
       "21    0.333039  \n",
       "22    0.352603  \n",
       "23    0.415031  \n",
       "24    0.280778  \n",
       "25    0.439651  \n",
       "26    0.483207  \n",
       "27    4.532142  \n",
       "28    4.663699  \n",
       "29    5.194164  "
      ]
     },
     "execution_count": 16,
     "metadata": {},
     "output_type": "execute_result"
    }
   ],
   "source": [
    "house_id = 'F'\n",
    "year = 2014\n",
    "df = pd.read_csv(f'./data/Home{house_id}/preprocess/homeF_{year}_merge.csv')\n",
    "df.head()\n",
    "\n",
    "use_col_name = 'Usage [kW]'\n",
    "gen_col_name = 'Generation [kW]'\n",
    "df[['Date & Time','weekday','mon','day','hr','min',gen_col_name,use_col_name]].head(30)\n",
    "\n",
    "# weekday 0: Mon, 1:Tue, 2:Wed, 3:Thu. 4:Fri, 5:Sat, 6:Sun"
   ]
  },
  {
   "cell_type": "code",
   "execution_count": 54,
   "metadata": {},
   "outputs": [],
   "source": [
    "def simulate_charging(h, battery_config):\n",
    "    use_col_name = 'Usage [kW]'\n",
    "    gen_col_name = 'Generation [kW]'\n",
    "    \n",
    "    max_battery_power = battery_config['max_battery_power']\n",
    "    min_battery_power = battery_config['min_battery_power']\n",
    "    battery_power = battery_config['init_battery_power']\n",
    "    min_gen_power = 0.011\n",
    "    \n",
    "    # init get_from_grid_power = init battery charging power\n",
    "    get_from_grid = battery_power\n",
    "    waste_pv_power = 0\n",
    "    \n",
    "    h['battery'] = battery_power\n",
    "    h['pv_use'] = 0\n",
    "    h['battery_charge'] = 0\n",
    "\n",
    "    h['get_from_grid(kWh)'] = battery_power\n",
    "    h['waste_pv_power(kWh)'] = 0\n",
    "    \n",
    "    for row, grid in enumerate(h['grid']):\n",
    "        # reset solar power\n",
    "        if h.loc[row, gen_col_name] < min_gen_power:\n",
    "            h.loc[row, gen_col_name] = 0\n",
    "        \n",
    "        if h['hr'].iloc[row] >= 6:\n",
    "            battery_power -= grid\n",
    "\n",
    "            if battery_power > max_battery_power:\n",
    "                # over charge, waste pv power\n",
    "                waste_pv_power += (battery_power - max_battery_power)\n",
    "                # reset battery power to max power\n",
    "                battery_power = max_battery_power\n",
    "                \n",
    "                h.loc[row, 'waste_pv_power(kWh)'] = waste_pv_power\n",
    "                # keep last get_from_grid value\n",
    "                h.loc[row, 'get_from_grid(kWh)'] = h['get_from_grid(kWh)'].iloc[row-1]\n",
    "    \n",
    "            elif battery_power <= min_battery_power:\n",
    "                # over use, start get power from grid\n",
    "                get_from_grid += (min_battery_power - battery_power)\n",
    "                # reset battery power to min power\n",
    "                battery_power = min_battery_power\n",
    "                \n",
    "                h.loc[row, 'get_from_grid(kWh)'] = get_from_grid\n",
    "                # keep last waste_pv_power value\n",
    "                h.loc[row, 'waste_pv_power(kWh)'] = h['waste_pv_power(kWh)'].iloc[row-1]\n",
    "                \n",
    "            else:          \n",
    "                h.loc[row, 'get_from_grid(kWh)'] = h['get_from_grid(kWh)'].iloc[row-1]\n",
    "                h.loc[row, 'waste_pv_power(kWh)'] = h['waste_pv_power(kWh)'].iloc[row-1]\n",
    "                \n",
    "                \n",
    "            h.loc[row, 'battery'] = battery_power\n",
    "\n",
    "        if grid < 0 and h[gen_col_name].iloc[row] > 0:\n",
    "            # pv generate > power usage\n",
    "            # battery charging\n",
    "            h.loc[row, 'pv_use'] = h[use_col_name].iloc[row]\n",
    "            h.loc[row, 'battery_charge'] = grid\n",
    "\n",
    "        elif grid > 0 and h[gen_col_name].iloc[row] > 0:\n",
    "            # power usage > pv generate\n",
    "            h.loc[row,'pv_use'] = h[gen_col_name].iloc[row]\n",
    "    \n",
    "    return waste_pv_power, get_from_grid\n",
    "\n",
    "\n",
    "def simulate_date(df, pick_date, battery_config):\n",
    "    \n",
    "    # pick single date\n",
    "    df['date'] = df['Date & Time'].map(lambda x: x.split(' ')[0])\n",
    "    df['time'] = df['Date & Time'].map(lambda x: x.split(' ')[1])\n",
    "    df['grid'] = df[use_col_name] - df[gen_col_name]\n",
    "\n",
    "    pick_df = df[df['date'] == pick_date]\n",
    "    pick_df = pick_df.reset_index()\n",
    "\n",
    "    # simulate\n",
    "    waste_pv_power, get_from_grid = simulate_charging(pick_df, battery_config)\n",
    "    \n",
    "#     drop min = 15 & min = 45 for display chart\n",
    "    filter_pick_df = pick_df[pick_df['min']!=15]\n",
    "    filter_pick_df = filter_pick_df[filter_pick_df['min']!=45]\n",
    "\n",
    "    return filter_pick_df, pick_df, waste_pv_power, get_from_grid\n",
    "    "
   ]
  },
  {
   "cell_type": "code",
   "execution_count": 82,
   "metadata": {},
   "outputs": [
    {
     "name": "stdout",
     "output_type": "stream",
     "text": [
      "============ simulate complete ============ \n",
      "House ID: F\n",
      "Pick Date: 2014-06-07\n",
      "=====\n",
      "Max Battery Power: 10 kWh\n",
      "Min Battery Power: 0 kWh\n",
      "Init Battery Charge Power: 0 kWh\n",
      "=====\n",
      "Total Usage (kWh)(After 6 am): 21.884983334999998\n",
      "Total PV Gen (kWh)(After 6 am): 53.23859777699999\n",
      "=====\n",
      "Total Waste Solar(kWh): 30.784348887999997 kWh\n",
      "Total Get From Grid(kWh) (Cost) (include Midnight Charging): 1.510425556 kWh\n"
     ]
    }
   ],
   "source": [
    "from functools import reduce\n",
    "\n",
    "battery_config = {\n",
    "    \"max_battery_power\": 10, # kwh\n",
    "    \"min_battery_power\": 0, # kwh\n",
    "    \"init_battery_power\": 0  # init battery kwh\n",
    "}\n",
    "pick_date = '2014-06-07' # changable\n",
    "\n",
    "# run simulate\n",
    "filter_pick_df, pick_df, waste_pv_power, get_from_grid = simulate_date(df, pick_date, battery_config)\n",
    "print(\"============ simulate complete ============ \")\n",
    "use_col_name = 'Usage [kW]'\n",
    "gen_col_name = 'Generation [kW]'\n",
    "\n",
    "print(f\"House ID: {house_id}\")\n",
    "print(f\"Pick Date: {pick_date}\")\n",
    "print(\"=====\")\n",
    "print(f\"Max Battery Power: {battery_config['max_battery_power']} kWh\")\n",
    "print(f\"Min Battery Power: {battery_config['min_battery_power']} kWh\")\n",
    "print(f\"Init Battery Charge Power: {battery_config['init_battery_power']} kWh\")\n",
    "print(\"=====\")\n",
    "print(f\"Total Usage (kWh)(After 6 am): {reduce(lambda x, y:x+y, pick_df[use_col_name][6:24])}\")\n",
    "print(f\"Total PV Gen (kWh)(After 6 am): {reduce(lambda x, y:x+y, pick_df[gen_col_name][6:24])}\")\n",
    "print(\"=====\")\n",
    "print(f\"Total Waste Solar(kWh): {waste_pv_power} kWh\")\n",
    "print(f\"Total Get From Grid(kWh) (Cost) (include Midnight Charging): {get_from_grid} kWh\")"
   ]
  },
  {
   "cell_type": "code",
   "execution_count": 83,
   "metadata": {},
   "outputs": [
    {
     "data": {
      "application/vnd.plotly.v1+json": {
       "config": {
        "plotlyServerURL": "https://plot.ly"
       },
       "data": [
        {
         "marker": {
          "color": "rgba(252, 220, 126, 1)"
         },
         "name": "Renewable Power (kW)",
         "type": "bar",
         "x": [
          "00:00:00",
          "01:00:00",
          "02:00:00",
          "03:00:00",
          "04:00:00",
          "05:00:00",
          "06:00:00",
          "07:00:00",
          "08:00:00",
          "09:00:00",
          "10:00:00",
          "11:00:00",
          "12:00:00",
          "13:00:00",
          "14:00:00",
          "15:00:00",
          "16:00:00",
          "17:00:00",
          "18:00:00",
          "19:00:00",
          "20:00:00",
          "21:00:00",
          "22:00:00",
          "23:00:00"
         ],
         "y": [
          0,
          0,
          0,
          0,
          0,
          0,
          0.239613333,
          0.499704444,
          2.144284444,
          4.239566667,
          5.8505088889999985,
          6.723644444,
          7.2269888889999985,
          8.704617778,
          4.9717355560000005,
          2.5122400000000003,
          3.346386667,
          4.081253333,
          2.271097778,
          0.392951111,
          0.034004444,
          0,
          0,
          0
         ]
        },
        {
         "marker": {
          "color": "rgba(125, 142, 141, 0.3)"
         },
         "name": "Usage (kW)",
         "type": "bar",
         "x": [
          "00:00:00",
          "01:00:00",
          "02:00:00",
          "03:00:00",
          "04:00:00",
          "05:00:00",
          "06:00:00",
          "07:00:00",
          "08:00:00",
          "09:00:00",
          "10:00:00",
          "11:00:00",
          "12:00:00",
          "13:00:00",
          "14:00:00",
          "15:00:00",
          "16:00:00",
          "17:00:00",
          "18:00:00",
          "19:00:00",
          "20:00:00",
          "21:00:00",
          "22:00:00",
          "23:00:00"
         ],
         "y": [
          0.392862222,
          0.3863644450000001,
          0.381725555,
          0.375832223,
          0.38975888799999997,
          0.3703833330000001,
          1.000557778,
          0.509867778,
          -1.1590977770000002,
          -3.09706,
          -4.979644444999998,
          -5.403318887999999,
          -4.854339999999999,
          -8.159417778,
          -4.546965556000001,
          -2.077311111,
          -2.9010566669999998,
          -3.6061366660000003,
          1.689468889,
          1.121193333,
          1.237212223,
          2.78719,
          0.646111112,
          0.40759999999999996
         ]
        },
        {
         "marker": {
          "color": "rgb(65, 135, 134)"
         },
         "name": "PV Usage (kW)",
         "type": "bar",
         "x": [
          "00:00:00",
          "01:00:00",
          "02:00:00",
          "03:00:00",
          "04:00:00",
          "05:00:00",
          "06:00:00",
          "07:00:00",
          "08:00:00",
          "09:00:00",
          "10:00:00",
          "11:00:00",
          "12:00:00",
          "13:00:00",
          "14:00:00",
          "15:00:00",
          "16:00:00",
          "17:00:00",
          "18:00:00",
          "19:00:00",
          "20:00:00",
          "21:00:00",
          "22:00:00",
          "23:00:00"
         ],
         "y": [
          0,
          0,
          0,
          0,
          0,
          0,
          0.239613333,
          0.499704444,
          0.985186667,
          1.142506667,
          0.8708644440000001,
          1.320325556,
          2.372648889,
          0.5452,
          0.42477,
          0.434928889,
          0.44533,
          0.4751166670000001,
          2.271097778,
          0.392951111,
          0.034004444,
          0,
          0,
          0
         ]
        },
        {
         "marker": {
          "color": "rgb(206, 205, 205)"
         },
         "name": "Battery Charge (kW)",
         "type": "bar",
         "x": [
          "00:00:00",
          "01:00:00",
          "02:00:00",
          "03:00:00",
          "04:00:00",
          "05:00:00",
          "06:00:00",
          "07:00:00",
          "08:00:00",
          "09:00:00",
          "10:00:00",
          "11:00:00",
          "12:00:00",
          "13:00:00",
          "14:00:00",
          "15:00:00",
          "16:00:00",
          "17:00:00",
          "18:00:00",
          "19:00:00",
          "20:00:00",
          "21:00:00",
          "22:00:00",
          "23:00:00"
         ],
         "y": [
          0,
          0,
          0,
          0,
          0,
          0,
          0,
          0,
          -1.1590977770000002,
          -3.09706,
          -4.979644444999998,
          -5.403318887999999,
          -4.854339999999999,
          -8.159417778,
          -4.546965556000001,
          -2.077311111,
          -2.9010566669999998,
          -3.6061366660000003,
          0,
          0,
          0,
          0,
          0,
          0
         ]
        },
        {
         "name": "Battery Storage(kWh)",
         "type": "scatter",
         "x": [
          "00:00:00",
          "01:00:00",
          "02:00:00",
          "03:00:00",
          "04:00:00",
          "05:00:00",
          "06:00:00",
          "07:00:00",
          "08:00:00",
          "09:00:00",
          "10:00:00",
          "11:00:00",
          "12:00:00",
          "13:00:00",
          "14:00:00",
          "15:00:00",
          "16:00:00",
          "17:00:00",
          "18:00:00",
          "19:00:00",
          "20:00:00",
          "21:00:00",
          "22:00:00",
          "23:00:00"
         ],
         "xaxis": "x",
         "y": [
          0,
          0,
          0,
          0,
          0,
          0,
          0,
          0,
          1.1590977770000002,
          4.256157777,
          9.235802221999998,
          10,
          10,
          10,
          10,
          10,
          10,
          10,
          8.310531111,
          7.189337778,
          5.952125554999999,
          3.1649355549999996,
          2.5188244429999997,
          2.111224443
         ],
         "yaxis": "y2"
        }
       ],
       "layout": {
        "barmode": "overlay",
        "legend": {
         "x": -0.1,
         "y": 1.5
        },
        "plot_bgcolor": "rgba(0,0,0,0)",
        "template": {
         "data": {
          "bar": [
           {
            "error_x": {
             "color": "#2a3f5f"
            },
            "error_y": {
             "color": "#2a3f5f"
            },
            "marker": {
             "line": {
              "color": "#E5ECF6",
              "width": 0.5
             }
            },
            "type": "bar"
           }
          ],
          "barpolar": [
           {
            "marker": {
             "line": {
              "color": "#E5ECF6",
              "width": 0.5
             }
            },
            "type": "barpolar"
           }
          ],
          "carpet": [
           {
            "aaxis": {
             "endlinecolor": "#2a3f5f",
             "gridcolor": "white",
             "linecolor": "white",
             "minorgridcolor": "white",
             "startlinecolor": "#2a3f5f"
            },
            "baxis": {
             "endlinecolor": "#2a3f5f",
             "gridcolor": "white",
             "linecolor": "white",
             "minorgridcolor": "white",
             "startlinecolor": "#2a3f5f"
            },
            "type": "carpet"
           }
          ],
          "choropleth": [
           {
            "colorbar": {
             "outlinewidth": 0,
             "ticks": ""
            },
            "type": "choropleth"
           }
          ],
          "contour": [
           {
            "colorbar": {
             "outlinewidth": 0,
             "ticks": ""
            },
            "colorscale": [
             [
              0,
              "#0d0887"
             ],
             [
              0.1111111111111111,
              "#46039f"
             ],
             [
              0.2222222222222222,
              "#7201a8"
             ],
             [
              0.3333333333333333,
              "#9c179e"
             ],
             [
              0.4444444444444444,
              "#bd3786"
             ],
             [
              0.5555555555555556,
              "#d8576b"
             ],
             [
              0.6666666666666666,
              "#ed7953"
             ],
             [
              0.7777777777777778,
              "#fb9f3a"
             ],
             [
              0.8888888888888888,
              "#fdca26"
             ],
             [
              1,
              "#f0f921"
             ]
            ],
            "type": "contour"
           }
          ],
          "contourcarpet": [
           {
            "colorbar": {
             "outlinewidth": 0,
             "ticks": ""
            },
            "type": "contourcarpet"
           }
          ],
          "heatmap": [
           {
            "colorbar": {
             "outlinewidth": 0,
             "ticks": ""
            },
            "colorscale": [
             [
              0,
              "#0d0887"
             ],
             [
              0.1111111111111111,
              "#46039f"
             ],
             [
              0.2222222222222222,
              "#7201a8"
             ],
             [
              0.3333333333333333,
              "#9c179e"
             ],
             [
              0.4444444444444444,
              "#bd3786"
             ],
             [
              0.5555555555555556,
              "#d8576b"
             ],
             [
              0.6666666666666666,
              "#ed7953"
             ],
             [
              0.7777777777777778,
              "#fb9f3a"
             ],
             [
              0.8888888888888888,
              "#fdca26"
             ],
             [
              1,
              "#f0f921"
             ]
            ],
            "type": "heatmap"
           }
          ],
          "heatmapgl": [
           {
            "colorbar": {
             "outlinewidth": 0,
             "ticks": ""
            },
            "colorscale": [
             [
              0,
              "#0d0887"
             ],
             [
              0.1111111111111111,
              "#46039f"
             ],
             [
              0.2222222222222222,
              "#7201a8"
             ],
             [
              0.3333333333333333,
              "#9c179e"
             ],
             [
              0.4444444444444444,
              "#bd3786"
             ],
             [
              0.5555555555555556,
              "#d8576b"
             ],
             [
              0.6666666666666666,
              "#ed7953"
             ],
             [
              0.7777777777777778,
              "#fb9f3a"
             ],
             [
              0.8888888888888888,
              "#fdca26"
             ],
             [
              1,
              "#f0f921"
             ]
            ],
            "type": "heatmapgl"
           }
          ],
          "histogram": [
           {
            "marker": {
             "colorbar": {
              "outlinewidth": 0,
              "ticks": ""
             }
            },
            "type": "histogram"
           }
          ],
          "histogram2d": [
           {
            "colorbar": {
             "outlinewidth": 0,
             "ticks": ""
            },
            "colorscale": [
             [
              0,
              "#0d0887"
             ],
             [
              0.1111111111111111,
              "#46039f"
             ],
             [
              0.2222222222222222,
              "#7201a8"
             ],
             [
              0.3333333333333333,
              "#9c179e"
             ],
             [
              0.4444444444444444,
              "#bd3786"
             ],
             [
              0.5555555555555556,
              "#d8576b"
             ],
             [
              0.6666666666666666,
              "#ed7953"
             ],
             [
              0.7777777777777778,
              "#fb9f3a"
             ],
             [
              0.8888888888888888,
              "#fdca26"
             ],
             [
              1,
              "#f0f921"
             ]
            ],
            "type": "histogram2d"
           }
          ],
          "histogram2dcontour": [
           {
            "colorbar": {
             "outlinewidth": 0,
             "ticks": ""
            },
            "colorscale": [
             [
              0,
              "#0d0887"
             ],
             [
              0.1111111111111111,
              "#46039f"
             ],
             [
              0.2222222222222222,
              "#7201a8"
             ],
             [
              0.3333333333333333,
              "#9c179e"
             ],
             [
              0.4444444444444444,
              "#bd3786"
             ],
             [
              0.5555555555555556,
              "#d8576b"
             ],
             [
              0.6666666666666666,
              "#ed7953"
             ],
             [
              0.7777777777777778,
              "#fb9f3a"
             ],
             [
              0.8888888888888888,
              "#fdca26"
             ],
             [
              1,
              "#f0f921"
             ]
            ],
            "type": "histogram2dcontour"
           }
          ],
          "mesh3d": [
           {
            "colorbar": {
             "outlinewidth": 0,
             "ticks": ""
            },
            "type": "mesh3d"
           }
          ],
          "parcoords": [
           {
            "line": {
             "colorbar": {
              "outlinewidth": 0,
              "ticks": ""
             }
            },
            "type": "parcoords"
           }
          ],
          "scatter": [
           {
            "marker": {
             "colorbar": {
              "outlinewidth": 0,
              "ticks": ""
             }
            },
            "type": "scatter"
           }
          ],
          "scatter3d": [
           {
            "line": {
             "colorbar": {
              "outlinewidth": 0,
              "ticks": ""
             }
            },
            "marker": {
             "colorbar": {
              "outlinewidth": 0,
              "ticks": ""
             }
            },
            "type": "scatter3d"
           }
          ],
          "scattercarpet": [
           {
            "marker": {
             "colorbar": {
              "outlinewidth": 0,
              "ticks": ""
             }
            },
            "type": "scattercarpet"
           }
          ],
          "scattergeo": [
           {
            "marker": {
             "colorbar": {
              "outlinewidth": 0,
              "ticks": ""
             }
            },
            "type": "scattergeo"
           }
          ],
          "scattergl": [
           {
            "marker": {
             "colorbar": {
              "outlinewidth": 0,
              "ticks": ""
             }
            },
            "type": "scattergl"
           }
          ],
          "scattermapbox": [
           {
            "marker": {
             "colorbar": {
              "outlinewidth": 0,
              "ticks": ""
             }
            },
            "type": "scattermapbox"
           }
          ],
          "scatterpolar": [
           {
            "marker": {
             "colorbar": {
              "outlinewidth": 0,
              "ticks": ""
             }
            },
            "type": "scatterpolar"
           }
          ],
          "scatterpolargl": [
           {
            "marker": {
             "colorbar": {
              "outlinewidth": 0,
              "ticks": ""
             }
            },
            "type": "scatterpolargl"
           }
          ],
          "scatterternary": [
           {
            "marker": {
             "colorbar": {
              "outlinewidth": 0,
              "ticks": ""
             }
            },
            "type": "scatterternary"
           }
          ],
          "surface": [
           {
            "colorbar": {
             "outlinewidth": 0,
             "ticks": ""
            },
            "colorscale": [
             [
              0,
              "#0d0887"
             ],
             [
              0.1111111111111111,
              "#46039f"
             ],
             [
              0.2222222222222222,
              "#7201a8"
             ],
             [
              0.3333333333333333,
              "#9c179e"
             ],
             [
              0.4444444444444444,
              "#bd3786"
             ],
             [
              0.5555555555555556,
              "#d8576b"
             ],
             [
              0.6666666666666666,
              "#ed7953"
             ],
             [
              0.7777777777777778,
              "#fb9f3a"
             ],
             [
              0.8888888888888888,
              "#fdca26"
             ],
             [
              1,
              "#f0f921"
             ]
            ],
            "type": "surface"
           }
          ],
          "table": [
           {
            "cells": {
             "fill": {
              "color": "#EBF0F8"
             },
             "line": {
              "color": "white"
             }
            },
            "header": {
             "fill": {
              "color": "#C8D4E3"
             },
             "line": {
              "color": "white"
             }
            },
            "type": "table"
           }
          ]
         },
         "layout": {
          "annotationdefaults": {
           "arrowcolor": "#2a3f5f",
           "arrowhead": 0,
           "arrowwidth": 1
          },
          "colorscale": {
           "diverging": [
            [
             0,
             "#8e0152"
            ],
            [
             0.1,
             "#c51b7d"
            ],
            [
             0.2,
             "#de77ae"
            ],
            [
             0.3,
             "#f1b6da"
            ],
            [
             0.4,
             "#fde0ef"
            ],
            [
             0.5,
             "#f7f7f7"
            ],
            [
             0.6,
             "#e6f5d0"
            ],
            [
             0.7,
             "#b8e186"
            ],
            [
             0.8,
             "#7fbc41"
            ],
            [
             0.9,
             "#4d9221"
            ],
            [
             1,
             "#276419"
            ]
           ],
           "sequential": [
            [
             0,
             "#0d0887"
            ],
            [
             0.1111111111111111,
             "#46039f"
            ],
            [
             0.2222222222222222,
             "#7201a8"
            ],
            [
             0.3333333333333333,
             "#9c179e"
            ],
            [
             0.4444444444444444,
             "#bd3786"
            ],
            [
             0.5555555555555556,
             "#d8576b"
            ],
            [
             0.6666666666666666,
             "#ed7953"
            ],
            [
             0.7777777777777778,
             "#fb9f3a"
            ],
            [
             0.8888888888888888,
             "#fdca26"
            ],
            [
             1,
             "#f0f921"
            ]
           ],
           "sequentialminus": [
            [
             0,
             "#0d0887"
            ],
            [
             0.1111111111111111,
             "#46039f"
            ],
            [
             0.2222222222222222,
             "#7201a8"
            ],
            [
             0.3333333333333333,
             "#9c179e"
            ],
            [
             0.4444444444444444,
             "#bd3786"
            ],
            [
             0.5555555555555556,
             "#d8576b"
            ],
            [
             0.6666666666666666,
             "#ed7953"
            ],
            [
             0.7777777777777778,
             "#fb9f3a"
            ],
            [
             0.8888888888888888,
             "#fdca26"
            ],
            [
             1,
             "#f0f921"
            ]
           ]
          },
          "colorway": [
           "#636efa",
           "#EF553B",
           "#00cc96",
           "#ab63fa",
           "#FFA15A",
           "#19d3f3",
           "#FF6692",
           "#B6E880",
           "#FF97FF",
           "#FECB52"
          ],
          "font": {
           "color": "#2a3f5f"
          },
          "geo": {
           "bgcolor": "white",
           "lakecolor": "white",
           "landcolor": "#E5ECF6",
           "showlakes": true,
           "showland": true,
           "subunitcolor": "white"
          },
          "hoverlabel": {
           "align": "left"
          },
          "hovermode": "closest",
          "mapbox": {
           "style": "light"
          },
          "paper_bgcolor": "white",
          "plot_bgcolor": "#E5ECF6",
          "polar": {
           "angularaxis": {
            "gridcolor": "white",
            "linecolor": "white",
            "ticks": ""
           },
           "bgcolor": "#E5ECF6",
           "radialaxis": {
            "gridcolor": "white",
            "linecolor": "white",
            "ticks": ""
           }
          },
          "scene": {
           "xaxis": {
            "backgroundcolor": "#E5ECF6",
            "gridcolor": "white",
            "gridwidth": 2,
            "linecolor": "white",
            "showbackground": true,
            "ticks": "",
            "zerolinecolor": "white"
           },
           "yaxis": {
            "backgroundcolor": "#E5ECF6",
            "gridcolor": "white",
            "gridwidth": 2,
            "linecolor": "white",
            "showbackground": true,
            "ticks": "",
            "zerolinecolor": "white"
           },
           "zaxis": {
            "backgroundcolor": "#E5ECF6",
            "gridcolor": "white",
            "gridwidth": 2,
            "linecolor": "white",
            "showbackground": true,
            "ticks": "",
            "zerolinecolor": "white"
           }
          },
          "shapedefaults": {
           "line": {
            "color": "#2a3f5f"
           }
          },
          "ternary": {
           "aaxis": {
            "gridcolor": "white",
            "linecolor": "white",
            "ticks": ""
           },
           "baxis": {
            "gridcolor": "white",
            "linecolor": "white",
            "ticks": ""
           },
           "bgcolor": "#E5ECF6",
           "caxis": {
            "gridcolor": "white",
            "linecolor": "white",
            "ticks": ""
           }
          },
          "title": {
           "x": 0.05
          },
          "xaxis": {
           "automargin": true,
           "gridcolor": "white",
           "linecolor": "white",
           "ticks": "",
           "zerolinecolor": "white",
           "zerolinewidth": 2
          },
          "yaxis": {
           "automargin": true,
           "gridcolor": "white",
           "linecolor": "white",
           "ticks": "",
           "zerolinecolor": "white",
           "zerolinewidth": 2
          }
         }
        },
        "xaxis": {
         "anchor": "y",
         "domain": [
          0,
          0.94
         ],
         "title": {
          "text": "time"
         }
        },
        "yaxis": {
         "anchor": "x",
         "domain": [
          0,
          1
         ],
         "title": {
          "text": "<b>kw</b> for usage, renewable power"
         }
        },
        "yaxis2": {
         "anchor": "x",
         "overlaying": "y",
         "side": "right",
         "title": {
          "text": "<b>kwh</b> Battery Storage"
         }
        }
       }
      },
      "text/html": [
       "<div>\n",
       "        \n",
       "        \n",
       "            <div id=\"c0539309-bec4-4ad9-823f-3fb4fd016f93\" class=\"plotly-graph-div\" style=\"height:525px; width:100%;\"></div>\n",
       "            <script type=\"text/javascript\">\n",
       "                require([\"plotly\"], function(Plotly) {\n",
       "                    window.PLOTLYENV=window.PLOTLYENV || {};\n",
       "                    \n",
       "                if (document.getElementById(\"c0539309-bec4-4ad9-823f-3fb4fd016f93\")) {\n",
       "                    Plotly.newPlot(\n",
       "                        'c0539309-bec4-4ad9-823f-3fb4fd016f93',\n",
       "                        [{\"marker\": {\"color\": \"rgba(252, 220, 126, 1)\"}, \"name\": \"Renewable Power (kW)\", \"type\": \"bar\", \"x\": [\"00:00:00\", \"01:00:00\", \"02:00:00\", \"03:00:00\", \"04:00:00\", \"05:00:00\", \"06:00:00\", \"07:00:00\", \"08:00:00\", \"09:00:00\", \"10:00:00\", \"11:00:00\", \"12:00:00\", \"13:00:00\", \"14:00:00\", \"15:00:00\", \"16:00:00\", \"17:00:00\", \"18:00:00\", \"19:00:00\", \"20:00:00\", \"21:00:00\", \"22:00:00\", \"23:00:00\"], \"y\": [0.0, 0.0, 0.0, 0.0, 0.0, 0.0, 0.239613333, 0.499704444, 2.144284444, 4.239566667, 5.8505088889999985, 6.723644444, 7.2269888889999985, 8.704617778, 4.9717355560000005, 2.5122400000000003, 3.346386667, 4.081253333, 2.271097778, 0.392951111, 0.034004444, 0.0, 0.0, 0.0]}, {\"marker\": {\"color\": \"rgba(125, 142, 141, 0.3)\"}, \"name\": \"Usage (kW)\", \"type\": \"bar\", \"x\": [\"00:00:00\", \"01:00:00\", \"02:00:00\", \"03:00:00\", \"04:00:00\", \"05:00:00\", \"06:00:00\", \"07:00:00\", \"08:00:00\", \"09:00:00\", \"10:00:00\", \"11:00:00\", \"12:00:00\", \"13:00:00\", \"14:00:00\", \"15:00:00\", \"16:00:00\", \"17:00:00\", \"18:00:00\", \"19:00:00\", \"20:00:00\", \"21:00:00\", \"22:00:00\", \"23:00:00\"], \"y\": [0.392862222, 0.3863644450000001, 0.381725555, 0.375832223, 0.38975888799999997, 0.3703833330000001, 1.000557778, 0.509867778, -1.1590977770000002, -3.09706, -4.979644444999998, -5.403318887999999, -4.854339999999999, -8.159417778, -4.546965556000001, -2.077311111, -2.9010566669999998, -3.6061366660000003, 1.689468889, 1.121193333, 1.237212223, 2.78719, 0.646111112, 0.40759999999999996]}, {\"marker\": {\"color\": \"rgb(65, 135, 134)\"}, \"name\": \"PV Usage (kW)\", \"type\": \"bar\", \"x\": [\"00:00:00\", \"01:00:00\", \"02:00:00\", \"03:00:00\", \"04:00:00\", \"05:00:00\", \"06:00:00\", \"07:00:00\", \"08:00:00\", \"09:00:00\", \"10:00:00\", \"11:00:00\", \"12:00:00\", \"13:00:00\", \"14:00:00\", \"15:00:00\", \"16:00:00\", \"17:00:00\", \"18:00:00\", \"19:00:00\", \"20:00:00\", \"21:00:00\", \"22:00:00\", \"23:00:00\"], \"y\": [0.0, 0.0, 0.0, 0.0, 0.0, 0.0, 0.239613333, 0.499704444, 0.985186667, 1.142506667, 0.8708644440000001, 1.320325556, 2.372648889, 0.5452, 0.42477, 0.434928889, 0.44533, 0.4751166670000001, 2.271097778, 0.392951111, 0.034004444, 0.0, 0.0, 0.0]}, {\"marker\": {\"color\": \"rgb(206, 205, 205)\"}, \"name\": \"Battery Charge (kW)\", \"type\": \"bar\", \"x\": [\"00:00:00\", \"01:00:00\", \"02:00:00\", \"03:00:00\", \"04:00:00\", \"05:00:00\", \"06:00:00\", \"07:00:00\", \"08:00:00\", \"09:00:00\", \"10:00:00\", \"11:00:00\", \"12:00:00\", \"13:00:00\", \"14:00:00\", \"15:00:00\", \"16:00:00\", \"17:00:00\", \"18:00:00\", \"19:00:00\", \"20:00:00\", \"21:00:00\", \"22:00:00\", \"23:00:00\"], \"y\": [0.0, 0.0, 0.0, 0.0, 0.0, 0.0, 0.0, 0.0, -1.1590977770000002, -3.09706, -4.979644444999998, -5.403318887999999, -4.854339999999999, -8.159417778, -4.546965556000001, -2.077311111, -2.9010566669999998, -3.6061366660000003, 0.0, 0.0, 0.0, 0.0, 0.0, 0.0]}, {\"name\": \"Battery Storage(kWh)\", \"type\": \"scatter\", \"x\": [\"00:00:00\", \"01:00:00\", \"02:00:00\", \"03:00:00\", \"04:00:00\", \"05:00:00\", \"06:00:00\", \"07:00:00\", \"08:00:00\", \"09:00:00\", \"10:00:00\", \"11:00:00\", \"12:00:00\", \"13:00:00\", \"14:00:00\", \"15:00:00\", \"16:00:00\", \"17:00:00\", \"18:00:00\", \"19:00:00\", \"20:00:00\", \"21:00:00\", \"22:00:00\", \"23:00:00\"], \"xaxis\": \"x\", \"y\": [0.0, 0.0, 0.0, 0.0, 0.0, 0.0, 0.0, 0.0, 1.1590977770000002, 4.256157777, 9.235802221999998, 10.0, 10.0, 10.0, 10.0, 10.0, 10.0, 10.0, 8.310531111, 7.189337778, 5.952125554999999, 3.1649355549999996, 2.5188244429999997, 2.111224443], \"yaxis\": \"y2\"}],\n",
       "                        {\"barmode\": \"overlay\", \"legend\": {\"x\": -0.1, \"y\": 1.5}, \"plot_bgcolor\": \"rgba(0,0,0,0)\", \"template\": {\"data\": {\"bar\": [{\"error_x\": {\"color\": \"#2a3f5f\"}, \"error_y\": {\"color\": \"#2a3f5f\"}, \"marker\": {\"line\": {\"color\": \"#E5ECF6\", \"width\": 0.5}}, \"type\": \"bar\"}], \"barpolar\": [{\"marker\": {\"line\": {\"color\": \"#E5ECF6\", \"width\": 0.5}}, \"type\": \"barpolar\"}], \"carpet\": [{\"aaxis\": {\"endlinecolor\": \"#2a3f5f\", \"gridcolor\": \"white\", \"linecolor\": \"white\", \"minorgridcolor\": \"white\", \"startlinecolor\": \"#2a3f5f\"}, \"baxis\": {\"endlinecolor\": \"#2a3f5f\", \"gridcolor\": \"white\", \"linecolor\": \"white\", \"minorgridcolor\": \"white\", \"startlinecolor\": \"#2a3f5f\"}, \"type\": \"carpet\"}], \"choropleth\": [{\"colorbar\": {\"outlinewidth\": 0, \"ticks\": \"\"}, \"type\": \"choropleth\"}], \"contour\": [{\"colorbar\": {\"outlinewidth\": 0, \"ticks\": \"\"}, \"colorscale\": [[0.0, \"#0d0887\"], [0.1111111111111111, \"#46039f\"], [0.2222222222222222, \"#7201a8\"], [0.3333333333333333, \"#9c179e\"], [0.4444444444444444, \"#bd3786\"], [0.5555555555555556, \"#d8576b\"], [0.6666666666666666, \"#ed7953\"], [0.7777777777777778, \"#fb9f3a\"], [0.8888888888888888, \"#fdca26\"], [1.0, \"#f0f921\"]], \"type\": \"contour\"}], \"contourcarpet\": [{\"colorbar\": {\"outlinewidth\": 0, \"ticks\": \"\"}, \"type\": \"contourcarpet\"}], \"heatmap\": [{\"colorbar\": {\"outlinewidth\": 0, \"ticks\": \"\"}, \"colorscale\": [[0.0, \"#0d0887\"], [0.1111111111111111, \"#46039f\"], [0.2222222222222222, \"#7201a8\"], [0.3333333333333333, \"#9c179e\"], [0.4444444444444444, \"#bd3786\"], [0.5555555555555556, \"#d8576b\"], [0.6666666666666666, \"#ed7953\"], [0.7777777777777778, \"#fb9f3a\"], [0.8888888888888888, \"#fdca26\"], [1.0, \"#f0f921\"]], \"type\": \"heatmap\"}], \"heatmapgl\": [{\"colorbar\": {\"outlinewidth\": 0, \"ticks\": \"\"}, \"colorscale\": [[0.0, \"#0d0887\"], [0.1111111111111111, \"#46039f\"], [0.2222222222222222, \"#7201a8\"], [0.3333333333333333, \"#9c179e\"], [0.4444444444444444, \"#bd3786\"], [0.5555555555555556, \"#d8576b\"], [0.6666666666666666, \"#ed7953\"], [0.7777777777777778, \"#fb9f3a\"], [0.8888888888888888, \"#fdca26\"], [1.0, \"#f0f921\"]], \"type\": \"heatmapgl\"}], \"histogram\": [{\"marker\": {\"colorbar\": {\"outlinewidth\": 0, \"ticks\": \"\"}}, \"type\": \"histogram\"}], \"histogram2d\": [{\"colorbar\": {\"outlinewidth\": 0, \"ticks\": \"\"}, \"colorscale\": [[0.0, \"#0d0887\"], [0.1111111111111111, \"#46039f\"], [0.2222222222222222, \"#7201a8\"], [0.3333333333333333, \"#9c179e\"], [0.4444444444444444, \"#bd3786\"], [0.5555555555555556, \"#d8576b\"], [0.6666666666666666, \"#ed7953\"], [0.7777777777777778, \"#fb9f3a\"], [0.8888888888888888, \"#fdca26\"], [1.0, \"#f0f921\"]], \"type\": \"histogram2d\"}], \"histogram2dcontour\": [{\"colorbar\": {\"outlinewidth\": 0, \"ticks\": \"\"}, \"colorscale\": [[0.0, \"#0d0887\"], [0.1111111111111111, \"#46039f\"], [0.2222222222222222, \"#7201a8\"], [0.3333333333333333, \"#9c179e\"], [0.4444444444444444, \"#bd3786\"], [0.5555555555555556, \"#d8576b\"], [0.6666666666666666, \"#ed7953\"], [0.7777777777777778, \"#fb9f3a\"], [0.8888888888888888, \"#fdca26\"], [1.0, \"#f0f921\"]], \"type\": \"histogram2dcontour\"}], \"mesh3d\": [{\"colorbar\": {\"outlinewidth\": 0, \"ticks\": \"\"}, \"type\": \"mesh3d\"}], \"parcoords\": [{\"line\": {\"colorbar\": {\"outlinewidth\": 0, \"ticks\": \"\"}}, \"type\": \"parcoords\"}], \"scatter\": [{\"marker\": {\"colorbar\": {\"outlinewidth\": 0, \"ticks\": \"\"}}, \"type\": \"scatter\"}], \"scatter3d\": [{\"line\": {\"colorbar\": {\"outlinewidth\": 0, \"ticks\": \"\"}}, \"marker\": {\"colorbar\": {\"outlinewidth\": 0, \"ticks\": \"\"}}, \"type\": \"scatter3d\"}], \"scattercarpet\": [{\"marker\": {\"colorbar\": {\"outlinewidth\": 0, \"ticks\": \"\"}}, \"type\": \"scattercarpet\"}], \"scattergeo\": [{\"marker\": {\"colorbar\": {\"outlinewidth\": 0, \"ticks\": \"\"}}, \"type\": \"scattergeo\"}], \"scattergl\": [{\"marker\": {\"colorbar\": {\"outlinewidth\": 0, \"ticks\": \"\"}}, \"type\": \"scattergl\"}], \"scattermapbox\": [{\"marker\": {\"colorbar\": {\"outlinewidth\": 0, \"ticks\": \"\"}}, \"type\": \"scattermapbox\"}], \"scatterpolar\": [{\"marker\": {\"colorbar\": {\"outlinewidth\": 0, \"ticks\": \"\"}}, \"type\": \"scatterpolar\"}], \"scatterpolargl\": [{\"marker\": {\"colorbar\": {\"outlinewidth\": 0, \"ticks\": \"\"}}, \"type\": \"scatterpolargl\"}], \"scatterternary\": [{\"marker\": {\"colorbar\": {\"outlinewidth\": 0, \"ticks\": \"\"}}, \"type\": \"scatterternary\"}], \"surface\": [{\"colorbar\": {\"outlinewidth\": 0, \"ticks\": \"\"}, \"colorscale\": [[0.0, \"#0d0887\"], [0.1111111111111111, \"#46039f\"], [0.2222222222222222, \"#7201a8\"], [0.3333333333333333, \"#9c179e\"], [0.4444444444444444, \"#bd3786\"], [0.5555555555555556, \"#d8576b\"], [0.6666666666666666, \"#ed7953\"], [0.7777777777777778, \"#fb9f3a\"], [0.8888888888888888, \"#fdca26\"], [1.0, \"#f0f921\"]], \"type\": \"surface\"}], \"table\": [{\"cells\": {\"fill\": {\"color\": \"#EBF0F8\"}, \"line\": {\"color\": \"white\"}}, \"header\": {\"fill\": {\"color\": \"#C8D4E3\"}, \"line\": {\"color\": \"white\"}}, \"type\": \"table\"}]}, \"layout\": {\"annotationdefaults\": {\"arrowcolor\": \"#2a3f5f\", \"arrowhead\": 0, \"arrowwidth\": 1}, \"colorscale\": {\"diverging\": [[0, \"#8e0152\"], [0.1, \"#c51b7d\"], [0.2, \"#de77ae\"], [0.3, \"#f1b6da\"], [0.4, \"#fde0ef\"], [0.5, \"#f7f7f7\"], [0.6, \"#e6f5d0\"], [0.7, \"#b8e186\"], [0.8, \"#7fbc41\"], [0.9, \"#4d9221\"], [1, \"#276419\"]], \"sequential\": [[0.0, \"#0d0887\"], [0.1111111111111111, \"#46039f\"], [0.2222222222222222, \"#7201a8\"], [0.3333333333333333, \"#9c179e\"], [0.4444444444444444, \"#bd3786\"], [0.5555555555555556, \"#d8576b\"], [0.6666666666666666, \"#ed7953\"], [0.7777777777777778, \"#fb9f3a\"], [0.8888888888888888, \"#fdca26\"], [1.0, \"#f0f921\"]], \"sequentialminus\": [[0.0, \"#0d0887\"], [0.1111111111111111, \"#46039f\"], [0.2222222222222222, \"#7201a8\"], [0.3333333333333333, \"#9c179e\"], [0.4444444444444444, \"#bd3786\"], [0.5555555555555556, \"#d8576b\"], [0.6666666666666666, \"#ed7953\"], [0.7777777777777778, \"#fb9f3a\"], [0.8888888888888888, \"#fdca26\"], [1.0, \"#f0f921\"]]}, \"colorway\": [\"#636efa\", \"#EF553B\", \"#00cc96\", \"#ab63fa\", \"#FFA15A\", \"#19d3f3\", \"#FF6692\", \"#B6E880\", \"#FF97FF\", \"#FECB52\"], \"font\": {\"color\": \"#2a3f5f\"}, \"geo\": {\"bgcolor\": \"white\", \"lakecolor\": \"white\", \"landcolor\": \"#E5ECF6\", \"showlakes\": true, \"showland\": true, \"subunitcolor\": \"white\"}, \"hoverlabel\": {\"align\": \"left\"}, \"hovermode\": \"closest\", \"mapbox\": {\"style\": \"light\"}, \"paper_bgcolor\": \"white\", \"plot_bgcolor\": \"#E5ECF6\", \"polar\": {\"angularaxis\": {\"gridcolor\": \"white\", \"linecolor\": \"white\", \"ticks\": \"\"}, \"bgcolor\": \"#E5ECF6\", \"radialaxis\": {\"gridcolor\": \"white\", \"linecolor\": \"white\", \"ticks\": \"\"}}, \"scene\": {\"xaxis\": {\"backgroundcolor\": \"#E5ECF6\", \"gridcolor\": \"white\", \"gridwidth\": 2, \"linecolor\": \"white\", \"showbackground\": true, \"ticks\": \"\", \"zerolinecolor\": \"white\"}, \"yaxis\": {\"backgroundcolor\": \"#E5ECF6\", \"gridcolor\": \"white\", \"gridwidth\": 2, \"linecolor\": \"white\", \"showbackground\": true, \"ticks\": \"\", \"zerolinecolor\": \"white\"}, \"zaxis\": {\"backgroundcolor\": \"#E5ECF6\", \"gridcolor\": \"white\", \"gridwidth\": 2, \"linecolor\": \"white\", \"showbackground\": true, \"ticks\": \"\", \"zerolinecolor\": \"white\"}}, \"shapedefaults\": {\"line\": {\"color\": \"#2a3f5f\"}}, \"ternary\": {\"aaxis\": {\"gridcolor\": \"white\", \"linecolor\": \"white\", \"ticks\": \"\"}, \"baxis\": {\"gridcolor\": \"white\", \"linecolor\": \"white\", \"ticks\": \"\"}, \"bgcolor\": \"#E5ECF6\", \"caxis\": {\"gridcolor\": \"white\", \"linecolor\": \"white\", \"ticks\": \"\"}}, \"title\": {\"x\": 0.05}, \"xaxis\": {\"automargin\": true, \"gridcolor\": \"white\", \"linecolor\": \"white\", \"ticks\": \"\", \"zerolinecolor\": \"white\", \"zerolinewidth\": 2}, \"yaxis\": {\"automargin\": true, \"gridcolor\": \"white\", \"linecolor\": \"white\", \"ticks\": \"\", \"zerolinecolor\": \"white\", \"zerolinewidth\": 2}}}, \"xaxis\": {\"anchor\": \"y\", \"domain\": [0.0, 0.94], \"title\": {\"text\": \"time\"}}, \"yaxis\": {\"anchor\": \"x\", \"domain\": [0.0, 1.0], \"title\": {\"text\": \"<b>kw</b> for usage, renewable power\"}}, \"yaxis2\": {\"anchor\": \"x\", \"overlaying\": \"y\", \"side\": \"right\", \"title\": {\"text\": \"<b>kwh</b> Battery Storage\"}}},\n",
       "                        {\"responsive\": true}\n",
       "                    ).then(function(){\n",
       "                            \n",
       "var gd = document.getElementById('c0539309-bec4-4ad9-823f-3fb4fd016f93');\n",
       "var x = new MutationObserver(function (mutations, observer) {{\n",
       "        var display = window.getComputedStyle(gd).display;\n",
       "        if (!display || display === 'none') {{\n",
       "            console.log([gd, 'removed!']);\n",
       "            Plotly.purge(gd);\n",
       "            observer.disconnect();\n",
       "        }}\n",
       "}});\n",
       "\n",
       "// Listen for the removal of the full notebook cells\n",
       "var notebookContainer = gd.closest('#notebook-container');\n",
       "if (notebookContainer) {{\n",
       "    x.observe(notebookContainer, {childList: true});\n",
       "}}\n",
       "\n",
       "// Listen for the clearing of the current output cell\n",
       "var outputEl = gd.closest('.output');\n",
       "if (outputEl) {{\n",
       "    x.observe(outputEl, {childList: true});\n",
       "}}\n",
       "\n",
       "                        })\n",
       "                };\n",
       "                });\n",
       "            </script>\n",
       "        </div>"
      ]
     },
     "metadata": {},
     "output_type": "display_data"
    }
   ],
   "source": [
    "# filter_pick_df[['time', 'grid', gen_col_name, 'pv_use', 'battery_charge', 'battery']]\n",
    "draw_chart(filter_pick_df[['time', 'grid', gen_col_name, 'pv_use', 'battery_charge', 'battery']])"
   ]
  },
  {
   "cell_type": "code",
   "execution_count": 69,
   "metadata": {},
   "outputs": [
    {
     "data": {
      "text/html": [
       "<div>\n",
       "<style scoped>\n",
       "    .dataframe tbody tr th:only-of-type {\n",
       "        vertical-align: middle;\n",
       "    }\n",
       "\n",
       "    .dataframe tbody tr th {\n",
       "        vertical-align: top;\n",
       "    }\n",
       "\n",
       "    .dataframe thead th {\n",
       "        text-align: right;\n",
       "    }\n",
       "</style>\n",
       "<table border=\"1\" class=\"dataframe\">\n",
       "  <thead>\n",
       "    <tr style=\"text-align: right;\">\n",
       "      <th></th>\n",
       "      <th>date</th>\n",
       "      <th>time</th>\n",
       "      <th>weekday</th>\n",
       "      <th>mon</th>\n",
       "      <th>day</th>\n",
       "      <th>hr</th>\n",
       "      <th>min</th>\n",
       "      <th>grid</th>\n",
       "      <th>Generation [kW]</th>\n",
       "      <th>Usage [kW]</th>\n",
       "      <th>pv_use</th>\n",
       "      <th>battery_charge</th>\n",
       "      <th>battery</th>\n",
       "      <th>waste_pv_power(kWh)</th>\n",
       "      <th>get_from_grid(kWh)</th>\n",
       "    </tr>\n",
       "  </thead>\n",
       "  <tbody>\n",
       "    <tr>\n",
       "      <th>0</th>\n",
       "      <td>2014-06-07</td>\n",
       "      <td>00:00:00</td>\n",
       "      <td>5</td>\n",
       "      <td>6</td>\n",
       "      <td>7</td>\n",
       "      <td>0</td>\n",
       "      <td>0</td>\n",
       "      <td>0.392862</td>\n",
       "      <td>0.000000</td>\n",
       "      <td>0.403404</td>\n",
       "      <td>0.000000</td>\n",
       "      <td>0.000000</td>\n",
       "      <td>0.000000</td>\n",
       "      <td>0.000000</td>\n",
       "      <td>0.000000</td>\n",
       "    </tr>\n",
       "    <tr>\n",
       "      <th>1</th>\n",
       "      <td>2014-06-07</td>\n",
       "      <td>01:00:00</td>\n",
       "      <td>5</td>\n",
       "      <td>6</td>\n",
       "      <td>7</td>\n",
       "      <td>1</td>\n",
       "      <td>0</td>\n",
       "      <td>0.386364</td>\n",
       "      <td>0.000000</td>\n",
       "      <td>0.396967</td>\n",
       "      <td>0.000000</td>\n",
       "      <td>0.000000</td>\n",
       "      <td>0.000000</td>\n",
       "      <td>0.000000</td>\n",
       "      <td>0.000000</td>\n",
       "    </tr>\n",
       "    <tr>\n",
       "      <th>2</th>\n",
       "      <td>2014-06-07</td>\n",
       "      <td>02:00:00</td>\n",
       "      <td>5</td>\n",
       "      <td>6</td>\n",
       "      <td>7</td>\n",
       "      <td>2</td>\n",
       "      <td>0</td>\n",
       "      <td>0.381726</td>\n",
       "      <td>0.000000</td>\n",
       "      <td>0.392321</td>\n",
       "      <td>0.000000</td>\n",
       "      <td>0.000000</td>\n",
       "      <td>0.000000</td>\n",
       "      <td>0.000000</td>\n",
       "      <td>0.000000</td>\n",
       "    </tr>\n",
       "    <tr>\n",
       "      <th>3</th>\n",
       "      <td>2014-06-07</td>\n",
       "      <td>03:00:00</td>\n",
       "      <td>5</td>\n",
       "      <td>6</td>\n",
       "      <td>7</td>\n",
       "      <td>3</td>\n",
       "      <td>0</td>\n",
       "      <td>0.375832</td>\n",
       "      <td>0.000000</td>\n",
       "      <td>0.386397</td>\n",
       "      <td>0.000000</td>\n",
       "      <td>0.000000</td>\n",
       "      <td>0.000000</td>\n",
       "      <td>0.000000</td>\n",
       "      <td>0.000000</td>\n",
       "    </tr>\n",
       "    <tr>\n",
       "      <th>4</th>\n",
       "      <td>2014-06-07</td>\n",
       "      <td>04:00:00</td>\n",
       "      <td>5</td>\n",
       "      <td>6</td>\n",
       "      <td>7</td>\n",
       "      <td>4</td>\n",
       "      <td>0</td>\n",
       "      <td>0.389759</td>\n",
       "      <td>0.000000</td>\n",
       "      <td>0.400374</td>\n",
       "      <td>0.000000</td>\n",
       "      <td>0.000000</td>\n",
       "      <td>0.000000</td>\n",
       "      <td>0.000000</td>\n",
       "      <td>0.000000</td>\n",
       "    </tr>\n",
       "    <tr>\n",
       "      <th>5</th>\n",
       "      <td>2014-06-07</td>\n",
       "      <td>05:00:00</td>\n",
       "      <td>5</td>\n",
       "      <td>6</td>\n",
       "      <td>7</td>\n",
       "      <td>5</td>\n",
       "      <td>0</td>\n",
       "      <td>0.370383</td>\n",
       "      <td>0.000000</td>\n",
       "      <td>0.381272</td>\n",
       "      <td>0.000000</td>\n",
       "      <td>0.000000</td>\n",
       "      <td>0.000000</td>\n",
       "      <td>0.000000</td>\n",
       "      <td>0.000000</td>\n",
       "    </tr>\n",
       "    <tr>\n",
       "      <th>6</th>\n",
       "      <td>2014-06-07</td>\n",
       "      <td>06:00:00</td>\n",
       "      <td>5</td>\n",
       "      <td>6</td>\n",
       "      <td>7</td>\n",
       "      <td>6</td>\n",
       "      <td>0</td>\n",
       "      <td>1.000558</td>\n",
       "      <td>0.239613</td>\n",
       "      <td>1.240171</td>\n",
       "      <td>0.239613</td>\n",
       "      <td>0.000000</td>\n",
       "      <td>0.000000</td>\n",
       "      <td>0.000000</td>\n",
       "      <td>1.000558</td>\n",
       "    </tr>\n",
       "    <tr>\n",
       "      <th>7</th>\n",
       "      <td>2014-06-07</td>\n",
       "      <td>07:00:00</td>\n",
       "      <td>5</td>\n",
       "      <td>6</td>\n",
       "      <td>7</td>\n",
       "      <td>7</td>\n",
       "      <td>0</td>\n",
       "      <td>0.509868</td>\n",
       "      <td>0.499704</td>\n",
       "      <td>1.009572</td>\n",
       "      <td>0.499704</td>\n",
       "      <td>0.000000</td>\n",
       "      <td>0.000000</td>\n",
       "      <td>0.000000</td>\n",
       "      <td>1.510426</td>\n",
       "    </tr>\n",
       "    <tr>\n",
       "      <th>8</th>\n",
       "      <td>2014-06-07</td>\n",
       "      <td>08:00:00</td>\n",
       "      <td>5</td>\n",
       "      <td>6</td>\n",
       "      <td>7</td>\n",
       "      <td>8</td>\n",
       "      <td>0</td>\n",
       "      <td>-1.159098</td>\n",
       "      <td>2.144284</td>\n",
       "      <td>0.985187</td>\n",
       "      <td>0.985187</td>\n",
       "      <td>-1.159098</td>\n",
       "      <td>1.159098</td>\n",
       "      <td>0.000000</td>\n",
       "      <td>1.510426</td>\n",
       "    </tr>\n",
       "    <tr>\n",
       "      <th>9</th>\n",
       "      <td>2014-06-07</td>\n",
       "      <td>09:00:00</td>\n",
       "      <td>5</td>\n",
       "      <td>6</td>\n",
       "      <td>7</td>\n",
       "      <td>9</td>\n",
       "      <td>0</td>\n",
       "      <td>-3.097060</td>\n",
       "      <td>4.239567</td>\n",
       "      <td>1.142507</td>\n",
       "      <td>1.142507</td>\n",
       "      <td>-3.097060</td>\n",
       "      <td>4.256158</td>\n",
       "      <td>0.000000</td>\n",
       "      <td>1.510426</td>\n",
       "    </tr>\n",
       "    <tr>\n",
       "      <th>10</th>\n",
       "      <td>2014-06-07</td>\n",
       "      <td>10:00:00</td>\n",
       "      <td>5</td>\n",
       "      <td>6</td>\n",
       "      <td>7</td>\n",
       "      <td>10</td>\n",
       "      <td>0</td>\n",
       "      <td>-4.979644</td>\n",
       "      <td>5.850509</td>\n",
       "      <td>0.870864</td>\n",
       "      <td>0.870864</td>\n",
       "      <td>-4.979644</td>\n",
       "      <td>9.235802</td>\n",
       "      <td>0.000000</td>\n",
       "      <td>1.510426</td>\n",
       "    </tr>\n",
       "    <tr>\n",
       "      <th>11</th>\n",
       "      <td>2014-06-07</td>\n",
       "      <td>11:00:00</td>\n",
       "      <td>5</td>\n",
       "      <td>6</td>\n",
       "      <td>7</td>\n",
       "      <td>11</td>\n",
       "      <td>0</td>\n",
       "      <td>-5.403319</td>\n",
       "      <td>6.723644</td>\n",
       "      <td>1.320326</td>\n",
       "      <td>1.320326</td>\n",
       "      <td>-5.403319</td>\n",
       "      <td>10.000000</td>\n",
       "      <td>4.639121</td>\n",
       "      <td>1.510426</td>\n",
       "    </tr>\n",
       "    <tr>\n",
       "      <th>12</th>\n",
       "      <td>2014-06-07</td>\n",
       "      <td>12:00:00</td>\n",
       "      <td>5</td>\n",
       "      <td>6</td>\n",
       "      <td>7</td>\n",
       "      <td>12</td>\n",
       "      <td>0</td>\n",
       "      <td>-4.854340</td>\n",
       "      <td>7.226989</td>\n",
       "      <td>2.372649</td>\n",
       "      <td>2.372649</td>\n",
       "      <td>-4.854340</td>\n",
       "      <td>10.000000</td>\n",
       "      <td>9.493461</td>\n",
       "      <td>1.510426</td>\n",
       "    </tr>\n",
       "    <tr>\n",
       "      <th>13</th>\n",
       "      <td>2014-06-07</td>\n",
       "      <td>13:00:00</td>\n",
       "      <td>5</td>\n",
       "      <td>6</td>\n",
       "      <td>7</td>\n",
       "      <td>13</td>\n",
       "      <td>0</td>\n",
       "      <td>-8.159418</td>\n",
       "      <td>8.704618</td>\n",
       "      <td>0.545200</td>\n",
       "      <td>0.545200</td>\n",
       "      <td>-8.159418</td>\n",
       "      <td>10.000000</td>\n",
       "      <td>17.652879</td>\n",
       "      <td>1.510426</td>\n",
       "    </tr>\n",
       "    <tr>\n",
       "      <th>14</th>\n",
       "      <td>2014-06-07</td>\n",
       "      <td>14:00:00</td>\n",
       "      <td>5</td>\n",
       "      <td>6</td>\n",
       "      <td>7</td>\n",
       "      <td>14</td>\n",
       "      <td>0</td>\n",
       "      <td>-4.546966</td>\n",
       "      <td>4.971736</td>\n",
       "      <td>0.424770</td>\n",
       "      <td>0.424770</td>\n",
       "      <td>-4.546966</td>\n",
       "      <td>10.000000</td>\n",
       "      <td>22.199844</td>\n",
       "      <td>1.510426</td>\n",
       "    </tr>\n",
       "    <tr>\n",
       "      <th>15</th>\n",
       "      <td>2014-06-07</td>\n",
       "      <td>15:00:00</td>\n",
       "      <td>5</td>\n",
       "      <td>6</td>\n",
       "      <td>7</td>\n",
       "      <td>15</td>\n",
       "      <td>0</td>\n",
       "      <td>-2.077311</td>\n",
       "      <td>2.512240</td>\n",
       "      <td>0.434929</td>\n",
       "      <td>0.434929</td>\n",
       "      <td>-2.077311</td>\n",
       "      <td>10.000000</td>\n",
       "      <td>24.277156</td>\n",
       "      <td>1.510426</td>\n",
       "    </tr>\n",
       "    <tr>\n",
       "      <th>16</th>\n",
       "      <td>2014-06-07</td>\n",
       "      <td>16:00:00</td>\n",
       "      <td>5</td>\n",
       "      <td>6</td>\n",
       "      <td>7</td>\n",
       "      <td>16</td>\n",
       "      <td>0</td>\n",
       "      <td>-2.901057</td>\n",
       "      <td>3.346387</td>\n",
       "      <td>0.445330</td>\n",
       "      <td>0.445330</td>\n",
       "      <td>-2.901057</td>\n",
       "      <td>10.000000</td>\n",
       "      <td>27.178212</td>\n",
       "      <td>1.510426</td>\n",
       "    </tr>\n",
       "    <tr>\n",
       "      <th>17</th>\n",
       "      <td>2014-06-07</td>\n",
       "      <td>17:00:00</td>\n",
       "      <td>5</td>\n",
       "      <td>6</td>\n",
       "      <td>7</td>\n",
       "      <td>17</td>\n",
       "      <td>0</td>\n",
       "      <td>-3.606137</td>\n",
       "      <td>4.081253</td>\n",
       "      <td>0.475117</td>\n",
       "      <td>0.475117</td>\n",
       "      <td>-3.606137</td>\n",
       "      <td>10.000000</td>\n",
       "      <td>30.784349</td>\n",
       "      <td>1.510426</td>\n",
       "    </tr>\n",
       "    <tr>\n",
       "      <th>18</th>\n",
       "      <td>2014-06-07</td>\n",
       "      <td>18:00:00</td>\n",
       "      <td>5</td>\n",
       "      <td>6</td>\n",
       "      <td>7</td>\n",
       "      <td>18</td>\n",
       "      <td>0</td>\n",
       "      <td>1.689469</td>\n",
       "      <td>2.271098</td>\n",
       "      <td>3.960567</td>\n",
       "      <td>2.271098</td>\n",
       "      <td>0.000000</td>\n",
       "      <td>8.310531</td>\n",
       "      <td>30.784349</td>\n",
       "      <td>1.510426</td>\n",
       "    </tr>\n",
       "    <tr>\n",
       "      <th>19</th>\n",
       "      <td>2014-06-07</td>\n",
       "      <td>19:00:00</td>\n",
       "      <td>5</td>\n",
       "      <td>6</td>\n",
       "      <td>7</td>\n",
       "      <td>19</td>\n",
       "      <td>0</td>\n",
       "      <td>1.121193</td>\n",
       "      <td>0.392951</td>\n",
       "      <td>1.514144</td>\n",
       "      <td>0.392951</td>\n",
       "      <td>0.000000</td>\n",
       "      <td>7.189338</td>\n",
       "      <td>30.784349</td>\n",
       "      <td>1.510426</td>\n",
       "    </tr>\n",
       "    <tr>\n",
       "      <th>20</th>\n",
       "      <td>2014-06-07</td>\n",
       "      <td>20:00:00</td>\n",
       "      <td>5</td>\n",
       "      <td>6</td>\n",
       "      <td>7</td>\n",
       "      <td>20</td>\n",
       "      <td>0</td>\n",
       "      <td>1.237212</td>\n",
       "      <td>0.034004</td>\n",
       "      <td>1.271217</td>\n",
       "      <td>0.034004</td>\n",
       "      <td>0.000000</td>\n",
       "      <td>5.952126</td>\n",
       "      <td>30.784349</td>\n",
       "      <td>1.510426</td>\n",
       "    </tr>\n",
       "    <tr>\n",
       "      <th>21</th>\n",
       "      <td>2014-06-07</td>\n",
       "      <td>21:00:00</td>\n",
       "      <td>5</td>\n",
       "      <td>6</td>\n",
       "      <td>7</td>\n",
       "      <td>21</td>\n",
       "      <td>0</td>\n",
       "      <td>2.787190</td>\n",
       "      <td>0.000000</td>\n",
       "      <td>2.797321</td>\n",
       "      <td>0.000000</td>\n",
       "      <td>0.000000</td>\n",
       "      <td>3.164936</td>\n",
       "      <td>30.784349</td>\n",
       "      <td>1.510426</td>\n",
       "    </tr>\n",
       "    <tr>\n",
       "      <th>22</th>\n",
       "      <td>2014-06-07</td>\n",
       "      <td>22:00:00</td>\n",
       "      <td>5</td>\n",
       "      <td>6</td>\n",
       "      <td>7</td>\n",
       "      <td>22</td>\n",
       "      <td>0</td>\n",
       "      <td>0.646111</td>\n",
       "      <td>0.000000</td>\n",
       "      <td>0.656896</td>\n",
       "      <td>0.000000</td>\n",
       "      <td>0.000000</td>\n",
       "      <td>2.518824</td>\n",
       "      <td>30.784349</td>\n",
       "      <td>1.510426</td>\n",
       "    </tr>\n",
       "    <tr>\n",
       "      <th>23</th>\n",
       "      <td>2014-06-07</td>\n",
       "      <td>23:00:00</td>\n",
       "      <td>5</td>\n",
       "      <td>6</td>\n",
       "      <td>7</td>\n",
       "      <td>23</td>\n",
       "      <td>0</td>\n",
       "      <td>0.407600</td>\n",
       "      <td>0.000000</td>\n",
       "      <td>0.418218</td>\n",
       "      <td>0.000000</td>\n",
       "      <td>0.000000</td>\n",
       "      <td>2.111224</td>\n",
       "      <td>30.784349</td>\n",
       "      <td>1.510426</td>\n",
       "    </tr>\n",
       "  </tbody>\n",
       "</table>\n",
       "</div>"
      ],
      "text/plain": [
       "          date      time  weekday  mon  day  hr  min      grid  \\\n",
       "0   2014-06-07  00:00:00        5    6    7   0    0  0.392862   \n",
       "1   2014-06-07  01:00:00        5    6    7   1    0  0.386364   \n",
       "2   2014-06-07  02:00:00        5    6    7   2    0  0.381726   \n",
       "3   2014-06-07  03:00:00        5    6    7   3    0  0.375832   \n",
       "4   2014-06-07  04:00:00        5    6    7   4    0  0.389759   \n",
       "5   2014-06-07  05:00:00        5    6    7   5    0  0.370383   \n",
       "6   2014-06-07  06:00:00        5    6    7   6    0  1.000558   \n",
       "7   2014-06-07  07:00:00        5    6    7   7    0  0.509868   \n",
       "8   2014-06-07  08:00:00        5    6    7   8    0 -1.159098   \n",
       "9   2014-06-07  09:00:00        5    6    7   9    0 -3.097060   \n",
       "10  2014-06-07  10:00:00        5    6    7  10    0 -4.979644   \n",
       "11  2014-06-07  11:00:00        5    6    7  11    0 -5.403319   \n",
       "12  2014-06-07  12:00:00        5    6    7  12    0 -4.854340   \n",
       "13  2014-06-07  13:00:00        5    6    7  13    0 -8.159418   \n",
       "14  2014-06-07  14:00:00        5    6    7  14    0 -4.546966   \n",
       "15  2014-06-07  15:00:00        5    6    7  15    0 -2.077311   \n",
       "16  2014-06-07  16:00:00        5    6    7  16    0 -2.901057   \n",
       "17  2014-06-07  17:00:00        5    6    7  17    0 -3.606137   \n",
       "18  2014-06-07  18:00:00        5    6    7  18    0  1.689469   \n",
       "19  2014-06-07  19:00:00        5    6    7  19    0  1.121193   \n",
       "20  2014-06-07  20:00:00        5    6    7  20    0  1.237212   \n",
       "21  2014-06-07  21:00:00        5    6    7  21    0  2.787190   \n",
       "22  2014-06-07  22:00:00        5    6    7  22    0  0.646111   \n",
       "23  2014-06-07  23:00:00        5    6    7  23    0  0.407600   \n",
       "\n",
       "    Generation [kW]  Usage [kW]    pv_use  battery_charge    battery  \\\n",
       "0          0.000000    0.403404  0.000000        0.000000   0.000000   \n",
       "1          0.000000    0.396967  0.000000        0.000000   0.000000   \n",
       "2          0.000000    0.392321  0.000000        0.000000   0.000000   \n",
       "3          0.000000    0.386397  0.000000        0.000000   0.000000   \n",
       "4          0.000000    0.400374  0.000000        0.000000   0.000000   \n",
       "5          0.000000    0.381272  0.000000        0.000000   0.000000   \n",
       "6          0.239613    1.240171  0.239613        0.000000   0.000000   \n",
       "7          0.499704    1.009572  0.499704        0.000000   0.000000   \n",
       "8          2.144284    0.985187  0.985187       -1.159098   1.159098   \n",
       "9          4.239567    1.142507  1.142507       -3.097060   4.256158   \n",
       "10         5.850509    0.870864  0.870864       -4.979644   9.235802   \n",
       "11         6.723644    1.320326  1.320326       -5.403319  10.000000   \n",
       "12         7.226989    2.372649  2.372649       -4.854340  10.000000   \n",
       "13         8.704618    0.545200  0.545200       -8.159418  10.000000   \n",
       "14         4.971736    0.424770  0.424770       -4.546966  10.000000   \n",
       "15         2.512240    0.434929  0.434929       -2.077311  10.000000   \n",
       "16         3.346387    0.445330  0.445330       -2.901057  10.000000   \n",
       "17         4.081253    0.475117  0.475117       -3.606137  10.000000   \n",
       "18         2.271098    3.960567  2.271098        0.000000   8.310531   \n",
       "19         0.392951    1.514144  0.392951        0.000000   7.189338   \n",
       "20         0.034004    1.271217  0.034004        0.000000   5.952126   \n",
       "21         0.000000    2.797321  0.000000        0.000000   3.164936   \n",
       "22         0.000000    0.656896  0.000000        0.000000   2.518824   \n",
       "23         0.000000    0.418218  0.000000        0.000000   2.111224   \n",
       "\n",
       "    waste_pv_power(kWh)  get_from_grid(kWh)  \n",
       "0              0.000000            0.000000  \n",
       "1              0.000000            0.000000  \n",
       "2              0.000000            0.000000  \n",
       "3              0.000000            0.000000  \n",
       "4              0.000000            0.000000  \n",
       "5              0.000000            0.000000  \n",
       "6              0.000000            1.000558  \n",
       "7              0.000000            1.510426  \n",
       "8              0.000000            1.510426  \n",
       "9              0.000000            1.510426  \n",
       "10             0.000000            1.510426  \n",
       "11             4.639121            1.510426  \n",
       "12             9.493461            1.510426  \n",
       "13            17.652879            1.510426  \n",
       "14            22.199844            1.510426  \n",
       "15            24.277156            1.510426  \n",
       "16            27.178212            1.510426  \n",
       "17            30.784349            1.510426  \n",
       "18            30.784349            1.510426  \n",
       "19            30.784349            1.510426  \n",
       "20            30.784349            1.510426  \n",
       "21            30.784349            1.510426  \n",
       "22            30.784349            1.510426  \n",
       "23            30.784349            1.510426  "
      ]
     },
     "execution_count": 69,
     "metadata": {},
     "output_type": "execute_result"
    }
   ],
   "source": [
    "filter_pick_df[['date','time','weekday','mon','day','hr','min','grid',gen_col_name,use_col_name,'pv_use','battery_charge','battery', 'waste_pv_power(kWh)', 'get_from_grid(kWh)']][:48]\n",
    "\n",
    "# get from grid\n",
    "# if (use > gen) and (battery < 0)\n",
    "# battery value: after current time"
   ]
  },
  {
   "cell_type": "code",
   "execution_count": 77,
   "metadata": {
    "scrolled": false
   },
   "outputs": [
    {
     "name": "stdout",
     "output_type": "stream",
     "text": [
      "2014-01-01 - 100 % - cost: 16.228285555 kWh\n",
      "2014-01-02 - 100 % - cost: 29.633546669000005 kWh\n",
      "2014-01-03 - 100 % - cost: 39.801885558 kWh\n",
      "2014-01-04 - 100 % - cost: 34.498765553999995 kWh\n",
      "2014-01-05 - 100 % - cost: 24.222892223999995 kWh\n",
      "2014-01-06 - 100 % - cost: 26.575374446 kWh\n",
      "2014-01-07 - 16 % - cost: 11.257417778000002 kWh\n",
      "2014-01-08 - 18 % - cost: 1.719656667 kWh\n",
      "2014-01-09 - 17 % - cost: 16.091889998 kWh\n",
      "2014-01-10 - 100 % - cost: 26.045421112 kWh\n",
      "2014-01-11 - 100 % - cost: 24.79587 kWh\n",
      "2014-01-12 - 100 % - cost: 16.851711111 kWh\n",
      "2014-01-13 - 20 % - cost: 13.195052224000003 kWh\n",
      "2014-01-14 - 100 % - cost: 38.095972225 kWh\n",
      "2014-01-15 - 15 % - cost: 13.357971109000003 kWh\n",
      "2014-01-16 - 100 % - cost: 30.271653334 kWh\n",
      "2014-01-17 - 100 % - cost: 18.743496667000002 kWh\n",
      "2014-01-18 - 100 % - cost: 34.31086444099999 kWh\n",
      "2014-01-19 - 100 % - cost: 17.989161110999998 kWh\n",
      "2014-01-20 - 26 % - cost: 10.01304111 kWh\n",
      "2014-01-21 - 68 % - cost: 19.723464442999997 kWh\n",
      "2014-01-22 - 100 % - cost: 12.799618888000001 kWh\n",
      "2014-01-23 - 15 % - cost: 1.4592344449999999 kWh\n",
      "2014-01-24 - 15 % - cost: 10.706098887999998 kWh\n",
      "2014-01-25 - 54 % - cost: 5.769398887000001 kWh\n",
      "2014-01-26 - 100 % - cost: 19.894551115000002 kWh\n",
      "2014-01-27 - 100 % - cost: 20.589889997000004 kWh\n",
      "2014-01-28 - 100 % - cost: 20.468348888 kWh\n",
      "2014-01-29 - 30 % - cost: 10.918225556999998 kWh\n",
      "2014-01-30 - 17 % - cost: 9.05498111 kWh\n",
      "2014-01-31 - 18 % - cost: 1.728126667 kWh\n",
      "2014-02-01 - 13 % - cost: 1.266357777 kWh\n",
      "2014-02-02 - 100 % - cost: 20.288268889 kWh\n",
      "2014-02-03 - 100 % - cost: 21.487103331000004 kWh\n",
      "2014-02-04 - 100 % - cost: 16.610054446 kWh\n",
      "2014-02-05 - 100 % - cost: 17.852221112 kWh\n",
      "2014-02-06 - 100 % - cost: 19.709316666000003 kWh\n",
      "2014-02-07 - 15 % - cost: 11.434451111000003 kWh\n",
      "2014-02-08 - 15 % - cost: 9.166451111999999 kWh\n",
      "2014-02-09 - 20 % - cost: 11.139554445000002 kWh\n",
      "2014-02-10 - 21 % - cost: 8.872286667000003 kWh\n",
      "2014-02-11 - 26 % - cost: 8.360755557000001 kWh\n",
      "2014-02-12 - 18 % - cost: 11.581049998 kWh\n",
      "2014-02-13 - 100 % - cost: 37.538358888999994 kWh\n",
      "2014-02-14 - 100 % - cost: 37.614957780000005 kWh\n",
      "2014-02-15 - 100 % - cost: 37.04039333200001 kWh\n",
      "2014-02-16 - 100 % - cost: 18.978120000000004 kWh\n",
      "2014-02-17 - 17 % - cost: 8.751155558 kWh\n",
      "2014-02-18 - 100 % - cost: 29.177512220999997 kWh\n",
      "2014-02-19 - 100 % - cost: 11.95567222 kWh\n",
      "2014-02-20 - 29 % - cost: 2.866192223 kWh\n",
      "2014-02-21 - 100 % - cost: 25.466616666 kWh\n",
      "2014-02-22 - 12 % - cost: 7.007163333000001 kWh\n",
      "2014-02-23 - 75 % - cost: 15.968481109 kWh\n",
      "2014-02-24 - 12 % - cost: 1.14954889 kWh\n",
      "2014-02-25 - 19 % - cost: 10.000495554000002 kWh\n",
      "2014-02-26 - 17 % - cost: 10.392963333999997 kWh\n",
      "2014-02-27 - 18 % - cost: 10.116495554999998 kWh\n",
      "2014-02-28 - 14 % - cost: 9.843712221 kWh\n",
      "2014-03-01 - 11 % - cost: 9.435085556 kWh\n",
      "2014-03-02 - 79 % - cost: 7.872090000000001 kWh\n",
      "2014-03-03 - 12 % - cost: 10.856841112999998 kWh\n",
      "2014-03-04 - 17 % - cost: 12.855194445999999 kWh\n",
      "2014-03-05 - 22 % - cost: 15.616191109999999 kWh\n",
      "2014-03-06 - 11 % - cost: 8.996081111000002 kWh\n",
      "2014-03-07 - 13 % - cost: 6.258045556 kWh\n",
      "2014-03-08 - 8 % - cost: 10.813585553999998 kWh\n",
      "2014-03-09 - 72 % - cost: 7.644532222999999 kWh\n",
      "2014-03-10 - 22 % - cost: 7.211377777999999 kWh\n",
      "2014-03-11 - 16 % - cost: 7.023482221000001 kWh\n",
      "2014-03-12 - 85 % - cost: 18.632097776999995 kWh\n",
      "2014-03-13 - 81 % - cost: 13.994707776000002 kWh\n",
      "2014-03-14 - 17 % - cost: 7.160981110999999 kWh\n",
      "2014-03-15 - 27 % - cost: 12.345335553999998 kWh\n",
      "2014-03-16 - 56 % - cost: 5.525428888 kWh\n",
      "2014-03-17 - 18 % - cost: 5.367527776 kWh\n",
      "2014-03-18 - 21 % - cost: 8.387275556 kWh\n",
      "2014-03-19 - 16 % - cost: 7.16496111 kWh\n",
      "2014-03-20 - 100 % - cost: 15.916161112000001 kWh\n",
      "2014-03-21 - 76 % - cost: 7.968626664 kWh\n",
      "2014-03-22 - 29 % - cost: 7.087190002 kWh\n",
      "2014-03-23 - 17 % - cost: 1.639453332 kWh\n",
      "2014-03-24 - 16 % - cost: 9.659852223 kWh\n",
      "2014-03-25 - 15 % - cost: 7.396008891 kWh\n",
      "2014-03-26 - 35 % - cost: 3.434355556 kWh\n",
      "2014-03-27 - 13 % - cost: 1.277016667 kWh\n",
      "2014-03-28 - 13 % - cost: 1.266815555 kWh\n",
      "2014-03-29 - 10 % - cost: 0.9810855549999999 kWh\n",
      "2014-03-30 - 12 % - cost: 1.1 kWh\n",
      "2014-03-31 - 19 % - cost: 1.8438944430000002 kWh\n",
      "2014-04-01 - 9 % - cost: 0.885787778 kWh\n",
      "2014-04-02 - 8 % - cost: 0.770749999 kWh\n",
      "2014-04-03 - 7 % - cost: 0.657126667 kWh\n",
      "2014-04-04 - 6 % - cost: 1.0156744420000012 kWh\n",
      "2014-04-05 - 9 % - cost: 5.334497777999999 kWh\n",
      "2014-04-06 - 10 % - cost: 3.7350288900000015 kWh\n",
      "2014-04-07 - 21 % - cost: 10.481695554999998 kWh\n",
      "2014-04-08 - 100 % - cost: 14.972878886000002 kWh\n",
      "2014-04-09 - 12 % - cost: 4.749632223 kWh\n",
      "2014-04-10 - 10 % - cost: 3.947458890000002 kWh\n",
      "2014-04-11 - 10 % - cost: 10.923622222999999 kWh\n",
      "2014-04-12 - 17 % - cost: 2.3595966659999994 kWh\n",
      "2014-04-13 - 100 % - cost: 12.274443334999999 kWh\n",
      "2014-04-14 - 13 % - cost: 7.391813333000002 kWh\n",
      "2014-04-15 - 100 % - cost: 23.187843334000004 kWh\n",
      "2014-04-16 - 31 % - cost: 11.211621111000001 kWh\n",
      "2014-04-17 - 12 % - cost: 8.536865555 kWh\n",
      "2014-04-18 - 11 % - cost: 5.879193333 kWh\n",
      "2014-04-19 - 6 % - cost: 13.484207779000002 kWh\n",
      "2014-04-20 - 6 % - cost: 0.571258888 kWh\n",
      "2014-04-21 - 7 % - cost: 0.9330011089999999 kWh\n",
      "2014-04-22 - 7 % - cost: 7.355535555000001 kWh\n",
      "2014-04-23 - 33 % - cost: 3.2476033340000012 kWh\n",
      "2014-04-24 - 11 % - cost: 5.912733334000001 kWh\n",
      "2014-04-25 - 9 % - cost: 10.262643333999998 kWh\n",
      "2014-04-26 - 100 % - cost: 24.831593332000004 kWh\n",
      "2014-04-27 - 53 % - cost: 5.2 kWh\n",
      "2014-04-28 - 9 % - cost: 6.612480000000001 kWh\n",
      "2014-04-29 - 64 % - cost: 15.837402224000003 kWh\n",
      "2014-04-30 - 100 % - cost: 24.632886665000004 kWh\n",
      "2014-05-01 - 38 % - cost: 11.547011109000001 kWh\n",
      "2014-05-02 - 8 % - cost: 8.752525554999998 kWh\n",
      "2014-05-03 - 10 % - cost: 5.187103333000003 kWh\n",
      "2014-05-04 - 10 % - cost: 0.9754255549999999 kWh\n",
      "2014-05-05 - 6 % - cost: 5.350750001 kWh\n",
      "2014-05-06 - 7 % - cost: 0.6108411109999999 kWh\n",
      "2014-05-07 - 12 % - cost: 1.1190288889999995 kWh\n",
      "2014-05-08 - 5 % - cost: 0.46408999999999995 kWh\n",
      "2014-05-09 - 100 % - cost: 26.015399999000003 kWh\n",
      "2014-05-10 - 26 % - cost: 3.6928522220000017 kWh\n",
      "2014-05-11 - 9 % - cost: 0.8429833330000001 kWh\n",
      "2014-05-12 - 3 % - cost: 11.165661112 kWh\n",
      "2014-05-13 - 13 % - cost: 1.2252111110000001 kWh\n",
      "2014-05-14 - 15 % - cost: 1.4792033330000005 kWh\n",
      "2014-05-15 - 100 % - cost: 15.42068111 kWh\n",
      "2014-05-16 - 99 % - cost: 28.634216666999997 kWh\n",
      "2014-05-17 - 69 % - cost: 7.447415555999999 kWh\n",
      "2014-05-18 - 7 % - cost: 0.9021311089999996 kWh\n",
      "2014-05-19 - 3 % - cost: 6.866566666 kWh\n",
      "2014-05-20 - 100 % - cost: 20.846815554000003 kWh\n",
      "2014-05-21 - 6 % - cost: 8.699292223 kWh\n",
      "2014-05-22 - 100 % - cost: 29.203461110000006 kWh\n",
      "2014-05-23 - 44 % - cost: 12.830879999 kWh\n",
      "2014-05-24 - 55 % - cost: 8.635606667 kWh\n",
      "2014-05-25 - 6 % - cost: 0.5692711119999999 kWh\n",
      "2014-05-26 - 100 % - cost: 18.183998889 kWh\n",
      "2014-05-27 - 3 % - cost: 3.017915554000001 kWh\n",
      "2014-05-28 - 66 % - cost: 6.512972223000001 kWh\n",
      "2014-05-29 - 4 % - cost: 6.1111199990000005 kWh\n",
      "2014-05-30 - 5 % - cost: 0.5209411129999998 kWh\n",
      "2014-05-31 - 44 % - cost: 5.9636499999999995 kWh\n",
      "2014-06-01 - 2 % - cost: 0.17657555399999975 kWh\n",
      "2014-06-02 - 7 % - cost: 19.698616668 kWh\n",
      "2014-06-03 - 65 % - cost: 18.012771110000003 kWh\n",
      "2014-06-04 - 21 % - cost: 11.714028889 kWh\n",
      "2014-06-05 - 40 % - cost: 5.921696668000001 kWh\n",
      "2014-06-06 - 14 % - cost: 13.004914442999999 kWh\n",
      "2014-06-07 - 16 % - cost: 1.510425556 kWh\n",
      "2014-06-08 - 14 % - cost: 4.153845554000001 kWh\n",
      "2014-06-09 - 38 % - cost: 15.261536669 kWh\n",
      "2014-06-10 - 100 % - cost: 26.717223333 kWh\n",
      "2014-06-11 - 80 % - cost: 19.703258888000004 kWh\n",
      "2014-06-12 - 100 % - cost: 20.671522225 kWh\n",
      "2014-06-13 - 100 % - cost: 21.728673336 kWh\n",
      "2014-06-14 - 30 % - cost: 2.9616755560000003 kWh\n",
      "2014-06-15 - 11 % - cost: 1.0842999999999998 kWh\n",
      "2014-06-16 - 1 % - cost: 5.489838888 kWh\n",
      "2014-06-17 - 1 % - cost: 13.628272222999998 kWh\n",
      "2014-06-18 - 71 % - cost: 8.532206666999999 kWh\n",
      "2014-06-19 - 36 % - cost: 14.470824445000002 kWh\n",
      "2014-06-20 - 42 % - cost: 4.17242 kWh\n",
      "2014-06-21 - 8 % - cost: 0.7838533329999998 kWh\n",
      "2014-06-22 - 3 % - cost: 0.23805666699999997 kWh\n",
      "2014-06-23 - 3 % - cost: 11.695301112000003 kWh\n",
      "2014-06-24 - 6 % - cost: 11.160351110000002 kWh\n",
      "2014-06-25 - 4 % - cost: 0.6343611089999999 kWh\n",
      "2014-06-26 - 36 % - cost: 7.42043 kWh\n",
      "2014-06-27 - 12 % - cost: 8.323742224 kWh\n"
     ]
    },
    {
     "name": "stdout",
     "output_type": "stream",
     "text": [
      "2014-06-28 - 10 % - cost: 6.6022522210000005 kWh\n",
      "2014-06-29 - 3 % - cost: 4.4518155550000005 kWh\n",
      "2014-06-30 - 5 % - cost: 4.210416666 kWh\n",
      "2014-07-01 - 18 % - cost: 17.515225555 kWh\n",
      "2014-07-02 - 23 % - cost: 23.437033333000002 kWh\n",
      "2014-07-03 - 13 % - cost: 23.199781111000004 kWh\n",
      "2014-07-04 - 86 % - cost: 9.217088888 kWh\n",
      "2014-07-05 - 18 % - cost: 1.7187066670000002 kWh\n",
      "2014-07-06 - 9 % - cost: 3.5241877770000007 kWh\n",
      "2014-07-07 - 100 % - cost: 18.656150000999997 kWh\n",
      "2014-07-08 - 21 % - cost: 10.726293334000001 kWh\n",
      "2014-07-09 - 80 % - cost: 15.735052223000002 kWh\n",
      "2014-07-10 - 72 % - cost: 24.951625558 kWh\n",
      "2014-07-11 - 7 % - cost: 0.6325055560000001 kWh\n",
      "2014-07-12 - 2 % - cost: 0.16741000000000003 kWh\n",
      "2014-07-13 - 4 % - cost: 0.335421111 kWh\n",
      "2014-07-14 - 3 % - cost: 0.27580000000000005 kWh\n",
      "2014-07-15 - 4 % - cost: 0.339927778 kWh\n",
      "2014-07-16 - 7 % - cost: 0.67428 kWh\n",
      "2014-07-17 - 2 % - cost: 0.13016777799999998 kWh\n",
      "2014-07-18 - 2 % - cost: 0.13425000000000004 kWh\n",
      "2014-07-19 - 3 % - cost: 9.22175889 kWh\n",
      "2014-07-20 - 34 % - cost: 3.5646877759999995 kWh\n",
      "2014-07-21 - 6 % - cost: 11.428347778000001 kWh\n",
      "2014-07-22 - 80 % - cost: 26.774962222000003 kWh\n",
      "2014-07-23 - 7 % - cost: 19.619469999000003 kWh\n",
      "2014-07-24 - 18 % - cost: 2.967583333000001 kWh\n",
      "2014-07-25 - 50 % - cost: 14.350480001000001 kWh\n",
      "2014-07-26 - 3 % - cost: 0.258213334 kWh\n",
      "2014-07-27 - 18 % - cost: 1.724121111 kWh\n",
      "2014-07-28 - 19 % - cost: 10.875581112999997 kWh\n",
      "2014-07-29 - 13 % - cost: 1.264478888 kWh\n",
      "2014-07-30 - 32 % - cost: 11.560613334000001 kWh\n",
      "2014-07-31 - 4 % - cost: 6.437181110000001 kWh\n",
      "2014-08-01 - 12 % - cost: 14.401271109000003 kWh\n",
      "2014-08-02 - 15 % - cost: 1.4762266680000002 kWh\n",
      "2014-08-03 - 31 % - cost: 5.740128890000002 kWh\n",
      "2014-08-04 - 33 % - cost: 11.541658888999999 kWh\n",
      "2014-08-05 - 14 % - cost: 5.556416667000001 kWh\n",
      "2014-08-06 - 24 % - cost: 18.187838886999998 kWh\n",
      "2014-08-07 - 16 % - cost: 7.391686666 kWh\n",
      "2014-08-08 - 8 % - cost: 11.606722222999998 kWh\n",
      "2014-08-09 - 8 % - cost: 5.394482222000001 kWh\n",
      "2014-08-10 - 9 % - cost: 0.877205555 kWh\n",
      "2014-08-11 - 17 % - cost: 11.648971112 kWh\n",
      "2014-08-12 - 4 % - cost: 0.32845777800000003 kWh\n",
      "2014-08-13 - 100 % - cost: 19.366814444000003 kWh\n",
      "2014-08-14 - 10 % - cost: 8.324765554999999 kWh\n",
      "2014-08-15 - 11 % - cost: 12.235121112000003 kWh\n",
      "2014-08-16 - 14 % - cost: 6.907777778000001 kWh\n",
      "2014-08-17 - 10 % - cost: 0.9858055559999999 kWh\n",
      "2014-08-18 - 42 % - cost: 4.1 kWh\n",
      "2014-08-19 - 6 % - cost: 5.191613336 kWh\n",
      "2014-08-20 - 31 % - cost: 15.415592222999999 kWh\n",
      "2014-08-21 - 19 % - cost: 14.267716667 kWh\n",
      "2014-08-22 - 67 % - cost: 13.123962222 kWh\n",
      "2014-08-23 - 15 % - cost: 1.4246611109999998 kWh\n",
      "2014-08-24 - 11 % - cost: 1.5995522229999999 kWh\n",
      "2014-08-25 - 18 % - cost: 4.305156668 kWh\n",
      "2014-08-26 - 10 % - cost: 14.720387778000003 kWh\n",
      "2014-08-27 - 12 % - cost: 14.867280001 kWh\n",
      "2014-08-28 - 20 % - cost: 11.815358886999999 kWh\n",
      "2014-08-29 - 5 % - cost: 0.43650111199999997 kWh\n",
      "2014-08-30 - 4 % - cost: 0.380798889 kWh\n",
      "2014-08-31 - 4 % - cost: 0.352056666 kWh\n",
      "2014-09-01 - 5 % - cost: 9.059605555000001 kWh\n",
      "2014-09-02 - 11 % - cost: 2.8562677789999986 kWh\n",
      "2014-09-03 - 5 % - cost: 2.996408888000001 kWh\n",
      "2014-09-04 - 5 % - cost: 11.752455556000001 kWh\n",
      "2014-09-05 - 5 % - cost: 8.354908889 kWh\n",
      "2014-09-06 - 10 % - cost: 12.744352222999998 kWh\n",
      "2014-09-07 - 13 % - cost: 8.310947778000001 kWh\n",
      "2014-09-08 - 12 % - cost: 4.030395554 kWh\n",
      "2014-09-09 - 4 % - cost: 2.4542811119999994 kWh\n",
      "2014-09-10 - 22 % - cost: 10.599123332999998 kWh\n",
      "2014-09-11 - 100 % - cost: 21.717832223000002 kWh\n",
      "2014-09-12 - 4 % - cost: 2.758588890000001 kWh\n",
      "2014-09-13 - 16 % - cost: 1.5486155540000002 kWh\n",
      "2014-09-14 - 16 % - cost: 9.629152222999998 kWh\n",
      "2014-09-15 - 11 % - cost: 5.572465555 kWh\n",
      "2014-09-16 - 66 % - cost: 11.294366663999998 kWh\n",
      "2014-09-17 - 11 % - cost: 5.862115557000002 kWh\n",
      "2014-09-18 - 5 % - cost: 8.379484444000001 kWh\n",
      "2014-09-19 - 13 % - cost: 2.548310001 kWh\n",
      "2014-09-20 - 11 % - cost: 1.083772222 kWh\n",
      "2014-09-21 - 35 % - cost: 3.481047777 kWh\n",
      "2014-09-22 - 11 % - cost: 7.235185555000003 kWh\n",
      "2014-09-23 - 11 % - cost: 1.061902222 kWh\n",
      "2014-09-24 - 8 % - cost: 0.72636 kWh\n",
      "2014-09-25 - 61 % - cost: 9.929949999 kWh\n",
      "2014-09-26 - 10 % - cost: 2.6142633329999994 kWh\n",
      "2014-09-27 - 13 % - cost: 1.201996667 kWh\n",
      "2014-09-28 - 16 % - cost: 12.727414443999999 kWh\n",
      "2014-09-29 - 46 % - cost: 6.130165556000001 kWh\n",
      "2014-09-30 - 100 % - cost: 24.454314444999998 kWh\n",
      "2014-10-01 - 100 % - cost: 18.149235554 kWh\n",
      "2014-10-02 - 55 % - cost: 10.715953336999998 kWh\n",
      "2014-10-03 - 23 % - cost: 4.0497011129999985 kWh\n",
      "2014-10-04 - 100 % - cost: 13.332804444 kWh\n",
      "2014-10-05 - 16 % - cost: 1.5 kWh\n",
      "2014-10-06 - 21 % - cost: 8.278883335 kWh\n",
      "2014-10-07 - 84 % - cost: 12.843570001000002 kWh\n",
      "2014-10-08 - 76 % - cost: 7.581428889000001 kWh\n",
      "2014-10-09 - 5 % - cost: 0.48938666599999997 kWh\n",
      "2014-10-10 - 6 % - cost: 0.504275555 kWh\n",
      "2014-10-11 - 11 % - cost: 1.0 kWh\n",
      "2014-10-12 - 8 % - cost: 0.719345555 kWh\n",
      "2014-10-13 - 8 % - cost: 0.7879166660000001 kWh\n",
      "2014-10-14 - 5 % - cost: 0.445915555 kWh\n",
      "2014-10-15 - 54 % - cost: 14.079354445999998 kWh\n",
      "2014-10-16 - 100 % - cost: 22.906941112 kWh\n",
      "2014-10-17 - 62 % - cost: 7.550079998000002 kWh\n",
      "2014-10-18 - 70 % - cost: 12.272832222 kWh\n",
      "2014-10-19 - 24 % - cost: 13.404319999999998 kWh\n",
      "2014-10-20 - 10 % - cost: 5.454183335999999 kWh\n",
      "2014-10-21 - 29 % - cost: 2.848946667 kWh\n",
      "2014-10-22 - 100 % - cost: 18.978188889 kWh\n",
      "2014-10-23 - 100 % - cost: 24.902688885 kWh\n",
      "2014-10-24 - 20 % - cost: 1.9 kWh\n",
      "2014-10-25 - 20 % - cost: 1.932431112000001 kWh\n",
      "2014-10-26 - 100 % - cost: 12.746748887999997 kWh\n",
      "2014-10-27 - 9 % - cost: 7.785179997000002 kWh\n",
      "2014-10-28 - 22 % - cost: 11.327207779000002 kWh\n",
      "2014-10-29 - 100 % - cost: 20.771138887 kWh\n",
      "2014-10-30 - 27 % - cost: 8.260894444000002 kWh\n",
      "2014-10-31 - 38 % - cost: 9.737425552000003 kWh\n",
      "2014-11-01 - 100 % - cost: 24.066267781 kWh\n",
      "2014-11-02 - 28 % - cost: 4.610634441999997 kWh\n",
      "2014-11-03 - 13 % - cost: 9.102174446 kWh\n",
      "2014-11-04 - 11 % - cost: 1.0836322219999999 kWh\n",
      "2014-11-05 - 41 % - cost: 9.690583329999999 kWh\n",
      "2014-11-06 - 100 % - cost: 24.549678888 kWh\n",
      "2014-11-07 - 16 % - cost: 5.992844446000001 kWh\n",
      "2014-11-08 - 27 % - cost: 3.6397500010000017 kWh\n",
      "2014-11-09 - 76 % - cost: 7.534569999 kWh\n",
      "2014-11-10 - 14 % - cost: 10.630885553999999 kWh\n",
      "2014-11-11 - 59 % - cost: 17.222147779 kWh\n",
      "2014-11-12 - 53 % - cost: 13.803646667 kWh\n",
      "2014-11-13 - 19 % - cost: 10.455400000000001 kWh\n",
      "2014-11-14 - 20 % - cost: 7.303542223 kWh\n",
      "2014-11-15 - 24 % - cost: 3.52444 kWh\n",
      "2014-11-16 - 44 % - cost: 4.311873332 kWh\n",
      "2014-11-17 - 100 % - cost: 25.919721111999998 kWh\n",
      "2014-11-18 - 14 % - cost: 1.8043788900000008 kWh\n",
      "2014-11-19 - 21 % - cost: 12.226204444 kWh\n",
      "2014-11-20 - 14 % - cost: 9.491219998999998 kWh\n",
      "2014-11-21 - 20 % - cost: 10.757657776 kWh\n",
      "2014-11-22 - 25 % - cost: 4.076115555000001 kWh\n",
      "2014-11-23 - 37 % - cost: 3.664702222 kWh\n",
      "2014-11-24 - 100 % - cost: 21.47580111 kWh\n",
      "2014-11-25 - 100 % - cost: 13.441205555 kWh\n",
      "2014-11-26 - 100 % - cost: 20.354965556 kWh\n",
      "2014-11-27 - 100 % - cost: 22.489838889999998 kWh\n",
      "2014-11-28 - 35 % - cost: 15.146155555 kWh\n",
      "2014-11-29 - 17 % - cost: 13.965894444999998 kWh\n",
      "2014-11-30 - 58 % - cost: 5.762068889 kWh\n",
      "2014-12-01 - 17 % - cost: 11.518397775999999 kWh\n",
      "2014-12-02 - 47 % - cost: 16.524458888 kWh\n",
      "2014-12-03 - 100 % - cost: 28.607397779 kWh\n",
      "2014-12-04 - 21 % - cost: 13.304896667000001 kWh\n",
      "2014-12-05 - 23 % - cost: 14.883858891000001 kWh\n",
      "2014-12-06 - 100 % - cost: 19.537851109999995 kWh\n",
      "2014-12-07 - 22 % - cost: 16.249925557999997 kWh\n",
      "2014-12-08 - 100 % - cost: 30.638951109 kWh\n",
      "2014-12-09 - 100 % - cost: 23.897993332000002 kWh\n",
      "2014-12-10 - 100 % - cost: 26.25859 kWh\n",
      "2014-12-11 - 100 % - cost: 15.924163333000001 kWh\n",
      "2014-12-12 - 26 % - cost: 22.154514443 kWh\n",
      "2014-12-13 - 36 % - cost: 10.381535554 kWh\n",
      "2014-12-14 - 46 % - cost: 6.177884444999998 kWh\n",
      "2014-12-15 - 28 % - cost: 5.869174446000001 kWh\n",
      "2014-12-16 - 100 % - cost: 25.220968888 kWh\n",
      "2014-12-17 - 87 % - cost: 26.408297776000005 kWh\n",
      "2014-12-18 - 100 % - cost: 24.095284442999997 kWh\n",
      "2014-12-19 - 100 % - cost: 26.627132223 kWh\n",
      "2014-12-20 - 100 % - cost: 12.257197778 kWh\n",
      "2014-12-21 - 100 % - cost: 22.826449998999998 kWh\n",
      "2014-12-22 - 100 % - cost: 29.708139999999997 kWh\n",
      "2014-12-23 - 100 % - cost: 27.917057779 kWh\n"
     ]
    },
    {
     "name": "stdout",
     "output_type": "stream",
     "text": [
      "2014-12-24 - 100 % - cost: 24.271745554 kWh\n",
      "2014-12-25 - 66 % - cost: 6.503521111 kWh\n",
      "2014-12-26 - 35 % - cost: 9.101837777 kWh\n",
      "2014-12-27 - 37 % - cost: 3.63469 kWh\n",
      "2014-12-28 - 100 % - cost: 20.450253332 kWh\n",
      "2014-12-29 - 23 % - cost: 15.374872222999999 kWh\n",
      "2014-12-30 - 21 % - cost: 14.764132223 kWh\n",
      "2014-12-31 - 25 % - cost: 17.527853334000003 kWh\n"
     ]
    }
   ],
   "source": [
    "from datetime import datetime, timedelta\n",
    "\n",
    "# create [\"2012-05-30\", \"2012-05-31\"...]  note type is datetime\n",
    "def create_date_list(start_date_str, end_date_str):\n",
    "    start_date = datetime.strptime(start_date_str, '%Y-%m-%d').date()\n",
    "    end_date = datetime.strptime(end_date_str, '%Y-%m-%d').date()\n",
    "    \n",
    "    for n in range(int((end_date - start_date).days) + 1):\n",
    "        yield start_date + timedelta(n)\n",
    "\n",
    "\n",
    "def find_optimal_charge_single_day(pick_date, power_df):\n",
    "    battery_config = {\n",
    "        \"max_battery_power\": 10, # kwh\n",
    "        \"min_battery_power\": 0, # kwh\n",
    "        \"init_battery_power\": 0  # init battery kwh\n",
    "    }\n",
    "\n",
    "    cost_list = []\n",
    "    # run simulate\n",
    "    for percent in range(0, 100):\n",
    "        battery_config['init_battery_power'] = battery_config['max_battery_power'] * percent / 100\n",
    "        filter_pick_df, pick_df, waste_pv_power, get_from_grid = simulate_date(power_df, pick_date, battery_config)\n",
    "\n",
    "#         for checking single day charging condition\n",
    "#         cost_list.append([f\"{percent} %\", get_from_grid, waste_pv_power])\n",
    "\n",
    "        if percent != 0 and (get_from_grid - last_cost) > 0.01:\n",
    "            print(f\"{pick_date} - {percent} % - cost: {last_cost} kWh\")\n",
    "            break   \n",
    "        last_cost = get_from_grid\n",
    "    else:\n",
    "        print(f\"{pick_date} - 100 % - cost: {last_cost} kWh\")\n",
    "\n",
    "    # for checking single day charging condition\n",
    "    # cost_df = pd.DataFrame(cost_list, columns=['Init Charge', 'Grid Usage(kWh)', 'waste PV Power (kWh)'])\n",
    "    # cost_df\n",
    "\n",
    "def simulate_whole_date(date_list, df):\n",
    "    for pick_date in date_list:\n",
    "        find_optimal_charge_single_day(str(pick_date), df)\n",
    "\n",
    "date_list = create_date_list(\"2014-01-01\", \"2014-12-31\")\n",
    "simulate_whole_date(date_list, df)\n",
    "\n",
    "\n",
    "# pick_date = '2012-05-30'\n",
    "# find_optimal_charge_single_day(pick_date, df)"
   ]
  },
  {
   "cell_type": "code",
   "execution_count": null,
   "metadata": {},
   "outputs": [],
   "source": []
  }
 ],
 "metadata": {
  "kernelspec": {
   "display_name": "Python 3",
   "language": "python",
   "name": "python3"
  },
  "language_info": {
   "codemirror_mode": {
    "name": "ipython",
    "version": 3
   },
   "file_extension": ".py",
   "mimetype": "text/x-python",
   "name": "python",
   "nbconvert_exporter": "python",
   "pygments_lexer": "ipython3",
   "version": "3.6.8"
  }
 },
 "nbformat": 4,
 "nbformat_minor": 2
}
